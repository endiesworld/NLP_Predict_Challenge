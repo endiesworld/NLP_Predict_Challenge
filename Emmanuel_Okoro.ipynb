{
 "cells": [
  {
   "cell_type": "markdown",
   "id": "6c7e849a",
   "metadata": {
    "ExecuteTime": {
     "end_time": "2021-06-11T09:24:53.643384Z",
     "start_time": "2021-06-11T09:24:53.622385Z"
    }
   },
   "source": [
    "# South African Language Identification\n",
    "\n",
    "© Explore Data Science Academy\n",
    "\n",
    "---\n",
    "### Honour Code\n",
    "\n",
    "I {**Emmanuel Okoro**}, confirm - by submitting this document - that the solutions in this notebook are a result of my own work and that I abide by the [EDSA honour code](https://drive.google.com/file/d/1QDCjGZJ8-FmJE3bZdIQNwnJyQKPhHZBn/view?usp=sharing).\n",
    "\n",
    "Non-compliance with the honour code constitutes a material breach of contract.\n",
    "\n",
    "### EDSA 2022 Classification Hackathon\n",
    "\n",
    "\n",
    "### Problem Statement\n",
    "\n",
    "My clients would like to develope a proces that will aid other systems and devices communicate in Saouth Africa multi-languages.\n",
    "\n",
    "Take text which is in any of South Africa's 11 Official languages and identify which language the text is in. This is an example of NLP's Language Identification, the task of determining the natural language that a piece of text is written in.\n",
    "\n",
    "### Process\n",
    "\n",
    "- analyse the supplied data\n",
    "- identify potential errors in the data and clean the existing data set\n",
    "- determine if additional features can be added to enrich the data set\n",
    "- build a model that is capable of identifying languages from text\n",
    "- evaluate the accuracy of the best machine learning model\n",
    "- determine determine language from text\n",
    "- explain the inner working of the model to a non-technical audience.\n",
    "  "
   ]
  },
  {
   "cell_type": "markdown",
   "id": "05600c92",
   "metadata": {},
   "source": [
    "<a id=\"cont\"></a>\n",
    "\n",
    "## Table of Contents\n",
    "\n",
    "<a href=#one>1. Importing Packages</a>\n",
    "\n",
    "<a href=#two>2. Loading Data</a>\n",
    "\n",
    "<a href=#three>3. Exploratory Data Analysis (EDA)</a>\n",
    "\n",
    "<a href=#four>4. Data Engineering</a>\n",
    "\n",
    "<a href=#five>5. Modeling</a>\n",
    "\n",
    "<a href=#six>6. Model Performance</a>\n",
    "\n",
    "<a href=#seven>7. Model Explanations</a>"
   ]
  },
  {
   "cell_type": "markdown",
   "id": "997462e2",
   "metadata": {},
   "source": [
    " <a id=\"one\"></a>\n",
    "## 1. Importing Packages\n",
    "<a href=#cont>Back to Table of Contents</a>\n",
    "\n",
    "---\n",
    "    \n",
    "| ⚡ Description: Importing Packages ⚡ |\n",
    "| :--------------------------- |\n",
    "| In this section you are required to import, and briefly discuss, the libraries that will be used throughout your analysis and modelling. |\n",
    "\n",
    "---"
   ]
  },
  {
   "cell_type": "code",
   "execution_count": 65,
   "id": "475dbe93",
   "metadata": {
    "ExecuteTime": {
     "end_time": "2021-06-23T10:30:53.800892Z",
     "start_time": "2021-06-23T10:30:50.215449Z"
    }
   },
   "outputs": [
    {
     "ename": "ModuleNotFoundError",
     "evalue": "No module named 'wordcloud'",
     "output_type": "error",
     "traceback": [
      "\u001b[1;31m---------------------------------------------------------------------------\u001b[0m",
      "\u001b[1;31mModuleNotFoundError\u001b[0m                       Traceback (most recent call last)",
      "\u001b[1;32m<ipython-input-65-fc2ae6b6afe5>\u001b[0m in \u001b[0;36m<module>\u001b[1;34m\u001b[0m\n\u001b[0;32m     37\u001b[0m \u001b[1;31m# Setting global constants to ensure notebook results are reproducible\u001b[0m\u001b[1;33m\u001b[0m\u001b[1;33m\u001b[0m\u001b[1;33m\u001b[0m\u001b[0m\n\u001b[0;32m     38\u001b[0m \u001b[1;33m\u001b[0m\u001b[0m\n\u001b[1;32m---> 39\u001b[1;33m \u001b[1;32mfrom\u001b[0m \u001b[0mwordcloud\u001b[0m \u001b[1;32mimport\u001b[0m \u001b[0mWordCloud\u001b[0m\u001b[1;33m,\u001b[0m \u001b[0mSTOPWORDS\u001b[0m \u001b[1;33m,\u001b[0m \u001b[0mImageColorGenerator\u001b[0m\u001b[1;33m\u001b[0m\u001b[1;33m\u001b[0m\u001b[0m\n\u001b[0m\u001b[0;32m     40\u001b[0m \u001b[1;33m\u001b[0m\u001b[0m\n\u001b[0;32m     41\u001b[0m \u001b[0mRANDOM_STATE\u001b[0m \u001b[1;33m=\u001b[0m \u001b[1;36m42\u001b[0m\u001b[1;33m\u001b[0m\u001b[1;33m\u001b[0m\u001b[0m\n",
      "\u001b[1;31mModuleNotFoundError\u001b[0m: No module named 'wordcloud'"
     ]
    }
   ],
   "source": [
    "import re\n",
    "import string\n",
    "import numpy as np\n",
    "import pandas as pd\n",
    "from nltk.tokenize import word_tokenize, TreebankWordTokenizer\n",
    "from nltk import SnowballStemmer\n",
    "from nltk.stem import WordNetLemmatizer\n",
    "from nltk.corpus import stopwords\n",
    "import matplotlib.pyplot as plt\n",
    "import seaborn as sns\n",
    "from sklearn import preprocessing\n",
    "\n",
    "from sklearn.utils import resample\n",
    "\n",
    "from sklearn.feature_extraction.text import CountVectorizer\n",
    "from sklearn.feature_extraction.text import TfidfVectorizer\n",
    "\n",
    "from sklearn.model_selection import train_test_split\n",
    "\n",
    "from sklearn.linear_model import LogisticRegression\n",
    "\n",
    "from sklearn.ensemble import RandomForestClassifier\n",
    "from sklearn.svm import SVC\n",
    "from sklearn.model_selection import GridSearchCV\n",
    "\n",
    "from sklearn.metrics import classification_report\n",
    "# from sklearn.metrics import accuracy_score\n",
    "# from sklearn.preprocessing import LabelEncoder\n",
    "# from sklearn.preprocessing import MinMaxScaler\n",
    "# from sklearn.metrics import roc_auc_score\n",
    "# from sklearn.metrics import recall_score\n",
    "# from sklearn.metrics import precision_score\n",
    "# from sklearn.metrics import f1_score\n",
    "\n",
    "# from comet_ml import Experiment\n",
    "\n",
    "# Setting global constants to ensure notebook results are reproducible\n",
    "\n",
    "from wordcloud import WordCloud, STOPWORDS , ImageColorGenerator\n",
    "\n",
    "RANDOM_STATE = 42\n",
    "\n",
    "\n",
    "import warnings\n",
    "warnings.filterwarnings('ignore')"
   ]
  },
  {
   "cell_type": "markdown",
   "id": "f22a6718",
   "metadata": {},
   "source": [
    "<a id=\"two\"></a>\n",
    "## 2. Loading the Data\n",
    "<a class=\"anchor\" id=\"1.1\"></a>\n",
    "<a href=#cont>Back to Table of Contents</a>\n",
    "\n",
    "---\n",
    "    \n",
    "| ⚡ Description: Loading the data ⚡ |\n",
    "| :--------------------------- |\n",
    "| In this section you are required to load the data from the `df_train` file into a DataFrame. |\n",
    "\n",
    "---"
   ]
  },
  {
   "cell_type": "code",
   "execution_count": 2,
   "id": "fbbb6c18",
   "metadata": {
    "ExecuteTime": {
     "end_time": "2021-06-28T08:49:35.311495Z",
     "start_time": "2021-06-28T08:49:35.295494Z"
    }
   },
   "outputs": [
    {
     "data": {
      "text/html": [
       "<div>\n",
       "<style scoped>\n",
       "    .dataframe tbody tr th:only-of-type {\n",
       "        vertical-align: middle;\n",
       "    }\n",
       "\n",
       "    .dataframe tbody tr th {\n",
       "        vertical-align: top;\n",
       "    }\n",
       "\n",
       "    .dataframe thead th {\n",
       "        text-align: right;\n",
       "    }\n",
       "</style>\n",
       "<table border=\"1\" class=\"dataframe\">\n",
       "  <thead>\n",
       "    <tr style=\"text-align: right;\">\n",
       "      <th></th>\n",
       "      <th>lang_id</th>\n",
       "      <th>text</th>\n",
       "    </tr>\n",
       "  </thead>\n",
       "  <tbody>\n",
       "    <tr>\n",
       "      <th>0</th>\n",
       "      <td>xho</td>\n",
       "      <td>umgaqo-siseko wenza amalungiselelo kumaziko ax...</td>\n",
       "    </tr>\n",
       "    <tr>\n",
       "      <th>1</th>\n",
       "      <td>xho</td>\n",
       "      <td>i-dha iya kuba nobulumko bokubeka umsebenzi na...</td>\n",
       "    </tr>\n",
       "    <tr>\n",
       "      <th>2</th>\n",
       "      <td>eng</td>\n",
       "      <td>the province of kwazulu-natal department of tr...</td>\n",
       "    </tr>\n",
       "    <tr>\n",
       "      <th>3</th>\n",
       "      <td>nso</td>\n",
       "      <td>o netefatša gore o ba file dilo ka moka tše le...</td>\n",
       "    </tr>\n",
       "    <tr>\n",
       "      <th>4</th>\n",
       "      <td>ven</td>\n",
       "      <td>khomishini ya ndinganyiso ya mbeu yo ewa maana...</td>\n",
       "    </tr>\n",
       "  </tbody>\n",
       "</table>\n",
       "</div>"
      ],
      "text/plain": [
       "  lang_id                                               text\n",
       "0     xho  umgaqo-siseko wenza amalungiselelo kumaziko ax...\n",
       "1     xho  i-dha iya kuba nobulumko bokubeka umsebenzi na...\n",
       "2     eng  the province of kwazulu-natal department of tr...\n",
       "3     nso  o netefatša gore o ba file dilo ka moka tše le...\n",
       "4     ven  khomishini ya ndinganyiso ya mbeu yo ewa maana..."
      ]
     },
     "execution_count": 2,
     "metadata": {},
     "output_type": "execute_result"
    }
   ],
   "source": [
    "df_train = pd.read_csv('data/train_set.csv')\n",
    "df_train.head()"
   ]
  },
  {
   "cell_type": "markdown",
   "id": "81132ab3",
   "metadata": {},
   "source": [
    "<a id=\"three\"></a>\n",
    "## 3. Exploratory Data Analysis (EDA)\n",
    "<a class=\"anchor\" id=\"1.1\"></a>\n",
    "<a href=#cont>Back to Table of Contents</a>\n",
    "\n",
    "---\n",
    "    \n",
    "| ⚡ Description: Exploratory data analysis ⚡ |\n",
    "| :--------------------------- |\n",
    "| In this section, you are required to perform an in-depth analysis of all the variables in the DataFrame. |\n",
    "\n",
    "---\n"
   ]
  },
  {
   "cell_type": "markdown",
   "id": "98c044ea",
   "metadata": {},
   "source": [
    "### Data Analysis\n",
    "For this section, we carry out two different types of data analysis:\n",
    "- Univariate \\\n",
    "    i. non-graphical \\\n",
    "    ii. graphical \n",
    "- Multivariate \\\n",
    "    i. non-graphical \\\n",
    "    ii. graphical"
   ]
  },
  {
   "cell_type": "markdown",
   "id": "1e773ee3",
   "metadata": {},
   "source": [
    "#### Univariate Non-Graphical Analysis\n",
    "For this analysis, we are going to view dataset on the below checks:  \\\n",
    "    i.  Check for the presence of *null* values  \\\n",
    "    ii. Descriptive statistical values *mean, std, minimum, quatiles, maximum, and kurtosis*  \n",
    "    iii. Dataset data types"
   ]
  },
  {
   "cell_type": "code",
   "execution_count": 3,
   "id": "e805134e",
   "metadata": {
    "ExecuteTime": {
     "end_time": "2021-06-28T08:52:37.824204Z",
     "start_time": "2021-06-28T08:52:37.811206Z"
    }
   },
   "outputs": [
    {
     "data": {
      "text/plain": [
       "lang_id    0\n",
       "text       0\n",
       "dtype: int64"
      ]
     },
     "execution_count": 3,
     "metadata": {},
     "output_type": "execute_result"
    }
   ],
   "source": [
    "# look at data statistics\n",
    "df_train.isnull().sum()"
   ]
  },
  {
   "cell_type": "code",
   "execution_count": 4,
   "id": "254e20c8",
   "metadata": {},
   "outputs": [
    {
     "name": "stdout",
     "output_type": "stream",
     "text": [
      "<class 'pandas.core.frame.DataFrame'>\n",
      "RangeIndex: 33000 entries, 0 to 32999\n",
      "Data columns (total 2 columns):\n",
      " #   Column   Non-Null Count  Dtype \n",
      "---  ------   --------------  ----- \n",
      " 0   lang_id  33000 non-null  object\n",
      " 1   text     33000 non-null  object\n",
      "dtypes: object(2)\n",
      "memory usage: 515.8+ KB\n"
     ]
    }
   ],
   "source": [
    "# Check data types for all columns\n",
    "df_train.info()"
   ]
  },
  {
   "cell_type": "code",
   "execution_count": 5,
   "id": "e95c1421",
   "metadata": {},
   "outputs": [],
   "source": [
    "def unique_val(df, col):\n",
    "    \"\"\"\n",
    "        This function takes in a dataframe and a column name, \n",
    "        and ouputs an interger, which is the number of unique \n",
    "        values in the column.\n",
    "    \"\"\"\n",
    "    return df[col].nunique()"
   ]
  },
  {
   "cell_type": "code",
   "execution_count": 7,
   "id": "a22e6980",
   "metadata": {},
   "outputs": [
    {
     "name": "stdout",
     "output_type": "stream",
     "text": [
      "The numbers of unique values in the lang_id column is : 11\n"
     ]
    }
   ],
   "source": [
    "# Check the numbers of unique values for the lang_id column\n",
    "print(f'The numbers of unique values in the lang_id column is : {unique_val(df_train, \"lang_id\")}')"
   ]
  },
  {
   "cell_type": "markdown",
   "id": "ab9e2880",
   "metadata": {},
   "source": [
    "From the above results, the lang_id column contains eleven different unique values, and we want to see how this values\n",
    "are distributed in the column.\n",
    "To achieve this, we write a function called *unique_val_count*."
   ]
  },
  {
   "cell_type": "code",
   "execution_count": 8,
   "id": "80cd6a13",
   "metadata": {},
   "outputs": [],
   "source": [
    "def unique_val_count(df, col):\n",
    "    \"\"\"\n",
    "        This function takes in a dataframe and a column name, \n",
    "        and ouputs a dictionary, which contains the unique values as a key, and the numbers as values.\n",
    "    \"\"\"\n",
    "    distribution = {}\n",
    "    unique_vals = df[col].unique()\n",
    "    for val in unique_vals:\n",
    "        distribution[val] = df[df[col] == val][col].count()\n",
    "    \n",
    "    return distribution"
   ]
  },
  {
   "cell_type": "code",
   "execution_count": 9,
   "id": "29ddf06e",
   "metadata": {},
   "outputs": [
    {
     "data": {
      "text/plain": [
       "{'xho': 3000,\n",
       " 'eng': 3000,\n",
       " 'nso': 3000,\n",
       " 'ven': 3000,\n",
       " 'tsn': 3000,\n",
       " 'nbl': 3000,\n",
       " 'zul': 3000,\n",
       " 'ssw': 3000,\n",
       " 'tso': 3000,\n",
       " 'sot': 3000,\n",
       " 'afr': 3000}"
      ]
     },
     "execution_count": 9,
     "metadata": {},
     "output_type": "execute_result"
    }
   ],
   "source": [
    "unique_val_count(df_train, 'lang_id')"
   ]
  },
  {
   "cell_type": "markdown",
   "id": "fd562db5",
   "metadata": {},
   "source": [
    "### Univariate graphical inspection of data\n",
    "For this analysis, we view the individual colunms using histogram plot."
   ]
  },
  {
   "cell_type": "code",
   "execution_count": 10,
   "id": "a3f47bff",
   "metadata": {},
   "outputs": [
    {
     "data": {
      "image/png": "[encoded data removed]",
      "text/plain": [
       "<Figure size 432x288 with 1 Axes>"
      ]
     },
     "metadata": {
      "needs_background": "light"
     },
     "output_type": "display_data"
    }
   ],
   "source": [
    "# Bar plot of label classes\n",
    "fig,ax = plt.subplots()\n",
    "df_train['lang_id'].value_counts().plot(kind = 'bar', facecolor='g', alpha=0.65)\n",
    "ax.set_xlabel('languages')\n",
    "ax.set_ylabel('language count')\n",
    "plt.show()"
   ]
  },
  {
   "cell_type": "markdown",
   "id": "2d74b341",
   "metadata": {},
   "source": [
    "### Visualise the most common words for each unique language\n",
    "\n",
    "To achieve this act, we make use of word cloud."
   ]
  },
  {
   "cell_type": "code",
   "execution_count": 12,
   "id": "c1525812",
   "metadata": {},
   "outputs": [
    {
     "data": {
      "text/html": [
       "<div>\n",
       "<style scoped>\n",
       "    .dataframe tbody tr th:only-of-type {\n",
       "        vertical-align: middle;\n",
       "    }\n",
       "\n",
       "    .dataframe tbody tr th {\n",
       "        vertical-align: top;\n",
       "    }\n",
       "\n",
       "    .dataframe thead th {\n",
       "        text-align: right;\n",
       "    }\n",
       "</style>\n",
       "<table border=\"1\" class=\"dataframe\">\n",
       "  <thead>\n",
       "    <tr style=\"text-align: right;\">\n",
       "      <th></th>\n",
       "      <th>lang_id</th>\n",
       "      <th>text</th>\n",
       "    </tr>\n",
       "  </thead>\n",
       "  <tbody>\n",
       "    <tr>\n",
       "      <th>0</th>\n",
       "      <td>xho</td>\n",
       "      <td>umgaqo-siseko wenza amalungiselelo kumaziko ax...</td>\n",
       "    </tr>\n",
       "    <tr>\n",
       "      <th>1</th>\n",
       "      <td>xho</td>\n",
       "      <td>i-dha iya kuba nobulumko bokubeka umsebenzi na...</td>\n",
       "    </tr>\n",
       "    <tr>\n",
       "      <th>2</th>\n",
       "      <td>eng</td>\n",
       "      <td>the province of kwazulu-natal department of tr...</td>\n",
       "    </tr>\n",
       "    <tr>\n",
       "      <th>3</th>\n",
       "      <td>nso</td>\n",
       "      <td>o netefatša gore o ba file dilo ka moka tše le...</td>\n",
       "    </tr>\n",
       "    <tr>\n",
       "      <th>4</th>\n",
       "      <td>ven</td>\n",
       "      <td>khomishini ya ndinganyiso ya mbeu yo ewa maana...</td>\n",
       "    </tr>\n",
       "  </tbody>\n",
       "</table>\n",
       "</div>"
      ],
      "text/plain": [
       "  lang_id                                               text\n",
       "0     xho  umgaqo-siseko wenza amalungiselelo kumaziko ax...\n",
       "1     xho  i-dha iya kuba nobulumko bokubeka umsebenzi na...\n",
       "2     eng  the province of kwazulu-natal department of tr...\n",
       "3     nso  o netefatša gore o ba file dilo ka moka tše le...\n",
       "4     ven  khomishini ya ndinganyiso ya mbeu yo ewa maana..."
      ]
     },
     "execution_count": 12,
     "metadata": {},
     "output_type": "execute_result"
    }
   ],
   "source": [
    "# Create new dataframe for word cloud\n",
    "df_train_cloud = df_train.copy()\n",
    "df_train_cloud.head()"
   ]
  },
  {
   "cell_type": "code",
   "execution_count": 14,
   "id": "fc6d70ed",
   "metadata": {},
   "outputs": [
    {
     "data": {
      "text/html": [
       "<div>\n",
       "<style scoped>\n",
       "    .dataframe tbody tr th:only-of-type {\n",
       "        vertical-align: middle;\n",
       "    }\n",
       "\n",
       "    .dataframe tbody tr th {\n",
       "        vertical-align: top;\n",
       "    }\n",
       "\n",
       "    .dataframe thead th {\n",
       "        text-align: right;\n",
       "    }\n",
       "</style>\n",
       "<table border=\"1\" class=\"dataframe\">\n",
       "  <thead>\n",
       "    <tr style=\"text-align: right;\">\n",
       "      <th></th>\n",
       "      <th>lang_id</th>\n",
       "      <th>text</th>\n",
       "    </tr>\n",
       "  </thead>\n",
       "  <tbody>\n",
       "    <tr>\n",
       "      <th>0</th>\n",
       "      <td>xho</td>\n",
       "      <td>umgaqo siseko wenza amalungiselelo kumaziko ax...</td>\n",
       "    </tr>\n",
       "    <tr>\n",
       "      <th>1</th>\n",
       "      <td>xho</td>\n",
       "      <td>dha iya kuba nobulumko bokubeka umsebenzi nap...</td>\n",
       "    </tr>\n",
       "    <tr>\n",
       "      <th>2</th>\n",
       "      <td>eng</td>\n",
       "      <td>the province kwazulu natal department transpor...</td>\n",
       "    </tr>\n",
       "    <tr>\n",
       "      <th>3</th>\n",
       "      <td>nso</td>\n",
       "      <td>netefat gore file dilo moka dumelelanego ona ...</td>\n",
       "    </tr>\n",
       "    <tr>\n",
       "      <th>4</th>\n",
       "      <td>ven</td>\n",
       "      <td>khomishini ndinganyiso mbeu ewa maana nga mula...</td>\n",
       "    </tr>\n",
       "  </tbody>\n",
       "</table>\n",
       "</div>"
      ],
      "text/plain": [
       "  lang_id                                               text\n",
       "0     xho  umgaqo siseko wenza amalungiselelo kumaziko ax...\n",
       "1     xho   dha iya kuba nobulumko bokubeka umsebenzi nap...\n",
       "2     eng  the province kwazulu natal department transpor...\n",
       "3     nso   netefat gore file dilo moka dumelelanego ona ...\n",
       "4     ven  khomishini ndinganyiso mbeu ewa maana nga mula..."
      ]
     },
     "execution_count": 14,
     "metadata": {},
     "output_type": "execute_result"
    }
   ],
   "source": [
    "# Preproceessing functions\n",
    "def preprocess_lang(df, col):\n",
    "    \"\"\" Functions takes in a pandas dataframe and performs a series of steps on \n",
    "        the tweet/message/text column\"\"\"\n",
    "    # Converting the whole text to lowercase\n",
    "    df[col] = df[col]. apply(lambda x: x.lower())\n",
    "\n",
    "    # Removing the twitter usernames from tweet string\n",
    "    df[col] = df[col]. apply(lambda x: re.sub(r'@\\w+', ' ', x))\n",
    "\n",
    "    # Removing the URLS from the tweet string\n",
    "    df[col] = df[col]. apply(lambda x: re.sub(r'@\\w+', ' ', x))\n",
    "\n",
    "    # Removing the URLS from the tweet string\n",
    "    df[col] = df[col]. apply(lambda x: re.sub(r'http\\S+', ' ', x))\n",
    "\n",
    "    # Deleting everything that is not characters\n",
    "    df[col] = df[col]. apply(lambda x: re.sub(r'[^a-z A-Z]', ' ', x))\n",
    "\n",
    "    # Deleting any word which is less than 3-characters mostly those are stopwords\n",
    "    df[col] = df[col]. apply(lambda x: re.sub(r'\\b\\w{1,2}\\b', '', x))\n",
    "\n",
    "    # Stripping extra spaces in the text\n",
    "    df[col] = df[col]. apply(lambda x: re.sub(r' +', ' ', x))\n",
    "    \n",
    "    return df\n",
    "\n",
    "preprocess_lang(df_train_cloud, 'text')\n",
    "\n",
    "df_train_cloud.head()"
   ]
  },
  {
   "cell_type": "code",
   "execution_count": 30,
   "id": "cadd6f66",
   "metadata": {},
   "outputs": [],
   "source": [
    "# Create a function that creates a list of dataframes with unique values\n",
    "def create_df(data, col):\n",
    "    \"\"\"\n",
    "        This function accept a dataframe, a column, which unique values serves as a condition for the numbers of \n",
    "        new dataframes it forms. It returns a list of dataframe\n",
    "    \"\"\"\n",
    "    col_val = data[col].unique()\n",
    "#     for val in col_val:\n",
    "#     df_list.append(df_train_cloud[df_train_cloud[col]== val])\n",
    "    df_list = [data[data[col]== val] for val in col_val]\n",
    "    \n",
    "    \n",
    "    return df_list\n",
    "    "
   ]
  },
  {
   "cell_type": "code",
   "execution_count": 33,
   "id": "726f462d",
   "metadata": {},
   "outputs": [
    {
     "name": "stdout",
     "output_type": "stream",
     "text": [
      " Created 11 new dataframes for the languages\n"
     ]
    }
   ],
   "source": [
    "# Create a list of dataframe with the unique languages in the lang_id column\n",
    "languages_df = create_df(df_train_cloud, 'lang_id')\n",
    "\n",
    "print(f' Created {len(languages_df)} new dataframes for the languages')"
   ]
  },
  {
   "cell_type": "code",
   "execution_count": 51,
   "id": "d08b6829",
   "metadata": {},
   "outputs": [
    {
     "data": {
      "text/html": [
       "<div>\n",
       "<style scoped>\n",
       "    .dataframe tbody tr th:only-of-type {\n",
       "        vertical-align: middle;\n",
       "    }\n",
       "\n",
       "    .dataframe tbody tr th {\n",
       "        vertical-align: top;\n",
       "    }\n",
       "\n",
       "    .dataframe thead th {\n",
       "        text-align: right;\n",
       "    }\n",
       "</style>\n",
       "<table border=\"1\" class=\"dataframe\">\n",
       "  <thead>\n",
       "    <tr style=\"text-align: right;\">\n",
       "      <th></th>\n",
       "      <th>lang_id</th>\n",
       "      <th>text</th>\n",
       "    </tr>\n",
       "  </thead>\n",
       "  <tbody>\n",
       "    <tr>\n",
       "      <th>0</th>\n",
       "      <td>xho</td>\n",
       "      <td>umgaqo siseko wenza amalungiselelo kumaziko ax...</td>\n",
       "    </tr>\n",
       "    <tr>\n",
       "      <th>1</th>\n",
       "      <td>xho</td>\n",
       "      <td>dha iya kuba nobulumko bokubeka umsebenzi nap...</td>\n",
       "    </tr>\n",
       "    <tr>\n",
       "      <th>28</th>\n",
       "      <td>xho</td>\n",
       "      <td>langa eli xesha nesizathu salo zingasinika ama...</td>\n",
       "    </tr>\n",
       "    <tr>\n",
       "      <th>43</th>\n",
       "      <td>xho</td>\n",
       "      <td>abafaki zicelo abadla umhlala phantsi ncedani ...</td>\n",
       "    </tr>\n",
       "    <tr>\n",
       "      <th>59</th>\n",
       "      <td>xho</td>\n",
       "      <td>intsilelo ligcisa ukthobela ukuziphatha okumis...</td>\n",
       "    </tr>\n",
       "  </tbody>\n",
       "</table>\n",
       "</div>"
      ],
      "text/plain": [
       "   lang_id                                               text\n",
       "0      xho  umgaqo siseko wenza amalungiselelo kumaziko ax...\n",
       "1      xho   dha iya kuba nobulumko bokubeka umsebenzi nap...\n",
       "28     xho  langa eli xesha nesizathu salo zingasinika ama...\n",
       "43     xho  abafaki zicelo abadla umhlala phantsi ncedani ...\n",
       "59     xho  intsilelo ligcisa ukthobela ukuziphatha okumis..."
      ]
     },
     "execution_count": 51,
     "metadata": {},
     "output_type": "execute_result"
    }
   ],
   "source": [
    "languages_df[0].head()"
   ]
  },
  {
   "cell_type": "code",
   "execution_count": 55,
   "id": "27392b1e",
   "metadata": {},
   "outputs": [],
   "source": [
    "# Create a function that returns a list of documents from each language dataframe\n",
    "\n",
    "def creat_doc(df_list, text_col):\n",
    "    \"\"\"\n",
    "        This function accepts a list of dataframes, and a column with text values, which it references to create a document\n",
    "        with all text in the column.\n",
    "        It returns a list of documents.\n",
    "    \"\"\"\n",
    "#     doc_list = [lambda df : \" \".join(text for text in df[tex_col])  for df in df_list]\n",
    "\n",
    "    doc_list = []\n",
    "    \n",
    "    for df in df_list :\n",
    "        doc =   \" \".join(text for text in df[text_col])\n",
    "        doc_list.append(doc)\n",
    "    \n",
    "    return doc_list"
   ]
  },
  {
   "cell_type": "code",
   "execution_count": 56,
   "id": "0d4fac05",
   "metadata": {},
   "outputs": [
    {
     "name": "stdout",
     "output_type": "stream",
     "text": [
      " Created 11 list of documents from the dataframes of unique languages created above\n"
     ]
    }
   ],
   "source": [
    "# Create a list of documents for the text column in each dataframes stored in languages_df\n",
    "documents_list = creat_doc(languages_df, 'text')\n",
    "\n",
    "print(f' Created {len(documents_list)} list of documents from the dataframes of unique languages created above')"
   ]
  },
  {
   "cell_type": "code",
   "execution_count": 58,
   "id": "acd97449",
   "metadata": {},
   "outputs": [],
   "source": [
    "# documents_list[0]"
   ]
  },
  {
   "cell_type": "code",
   "execution_count": 63,
   "id": "f516be28",
   "metadata": {},
   "outputs": [],
   "source": [
    "# Create a function to generate a list of world cloud from the document list created above\n",
    "def generate_wordCloud(doc_list):\n",
    "    \"\"\"\n",
    "        This function recieves a list of documents, generates and returns a list of word cloud for each document in the list.\n",
    "    \"\"\"\n",
    "#     word_cloud_list = [lambda doc : WordCloud(max_font_size=50, max_words=100, background_color=\"white\").generate(doc)\n",
    "#                       for doc in doc_list]\n",
    "    word_cloud_list = []\n",
    "    \n",
    "    for doc in doc_list :\n",
    "        wordcloud = WordCloud(max_font_size=50, max_words=100, background_color=\"white\").generate(doc)\n",
    "        word_cloud_list.append(wordcloud)\n",
    "        \n",
    "    return word_cloud_list"
   ]
  },
  {
   "cell_type": "code",
   "execution_count": 64,
   "id": "8972b27f",
   "metadata": {},
   "outputs": [
    {
     "ename": "NameError",
     "evalue": "name 'WordCloud' is not defined",
     "output_type": "error",
     "traceback": [
      "\u001b[1;31m---------------------------------------------------------------------------\u001b[0m",
      "\u001b[1;31mNameError\u001b[0m                                 Traceback (most recent call last)",
      "\u001b[1;32m<ipython-input-64-71f2f198e96b>\u001b[0m in \u001b[0;36m<module>\u001b[1;34m\u001b[0m\n\u001b[0;32m      1\u001b[0m \u001b[1;31m# Create a list of word cloud for each document in the document list created above\u001b[0m\u001b[1;33m\u001b[0m\u001b[1;33m\u001b[0m\u001b[1;33m\u001b[0m\u001b[0m\n\u001b[1;32m----> 2\u001b[1;33m \u001b[0mwordcloud_list\u001b[0m \u001b[1;33m=\u001b[0m \u001b[0mgenerate_wordCloud\u001b[0m\u001b[1;33m(\u001b[0m\u001b[0mdocuments_list\u001b[0m\u001b[1;33m)\u001b[0m\u001b[1;33m\u001b[0m\u001b[1;33m\u001b[0m\u001b[0m\n\u001b[0m\u001b[0;32m      3\u001b[0m \u001b[1;33m\u001b[0m\u001b[0m\n\u001b[0;32m      4\u001b[0m \u001b[0mprint\u001b[0m\u001b[1;33m(\u001b[0m\u001b[1;34mf' Created {len(wordcloud_list)} list of world cloud for each document in the document list created above'\u001b[0m\u001b[1;33m)\u001b[0m\u001b[1;33m\u001b[0m\u001b[1;33m\u001b[0m\u001b[0m\n",
      "\u001b[1;32m<ipython-input-63-3b9360b8e681>\u001b[0m in \u001b[0;36mgenerate_wordCloud\u001b[1;34m(doc_list)\u001b[0m\n\u001b[0;32m      9\u001b[0m \u001b[1;33m\u001b[0m\u001b[0m\n\u001b[0;32m     10\u001b[0m     \u001b[1;32mfor\u001b[0m \u001b[0mdoc\u001b[0m \u001b[1;32min\u001b[0m \u001b[0mdoc_list\u001b[0m \u001b[1;33m:\u001b[0m\u001b[1;33m\u001b[0m\u001b[1;33m\u001b[0m\u001b[0m\n\u001b[1;32m---> 11\u001b[1;33m         \u001b[0mwordcloud\u001b[0m \u001b[1;33m=\u001b[0m \u001b[0mWordCloud\u001b[0m\u001b[1;33m(\u001b[0m\u001b[0mmax_font_size\u001b[0m\u001b[1;33m=\u001b[0m\u001b[1;36m50\u001b[0m\u001b[1;33m,\u001b[0m \u001b[0mmax_words\u001b[0m\u001b[1;33m=\u001b[0m\u001b[1;36m100\u001b[0m\u001b[1;33m,\u001b[0m \u001b[0mbackground_color\u001b[0m\u001b[1;33m=\u001b[0m\u001b[1;34m\"white\"\u001b[0m\u001b[1;33m)\u001b[0m\u001b[1;33m.\u001b[0m\u001b[0mgenerate\u001b[0m\u001b[1;33m(\u001b[0m\u001b[0mdoc\u001b[0m\u001b[1;33m)\u001b[0m\u001b[1;33m\u001b[0m\u001b[1;33m\u001b[0m\u001b[0m\n\u001b[0m\u001b[0;32m     12\u001b[0m         \u001b[0mword_cloud_list\u001b[0m\u001b[1;33m.\u001b[0m\u001b[0mappend\u001b[0m\u001b[1;33m(\u001b[0m\u001b[0mwordcloud\u001b[0m\u001b[1;33m)\u001b[0m\u001b[1;33m\u001b[0m\u001b[1;33m\u001b[0m\u001b[0m\n\u001b[0;32m     13\u001b[0m \u001b[1;33m\u001b[0m\u001b[0m\n",
      "\u001b[1;31mNameError\u001b[0m: name 'WordCloud' is not defined"
     ]
    }
   ],
   "source": [
    "# Create a list of word cloud for each document in the document list created above\n",
    "wordcloud_list = generate_wordCloud(documents_list)\n",
    "\n",
    "print(f' Created {len(wordcloud_list)} list of world cloud for each document in the document list created above')"
   ]
  },
  {
   "cell_type": "code",
   "execution_count": 61,
   "id": "428207c0",
   "metadata": {},
   "outputs": [],
   "source": [
    "# Create a function to display the word in each worldcloud item for the world cloud list generated above.\n",
    "\n",
    "def display_wordcloud(word_list):\n",
    "    \"\"\"\n",
    "        This function recieves a list of word cloud, and a corresponding label list for the word cloud. \n",
    "        It prints each word cloud in the list\n",
    "    \"\"\"\n",
    "    fig, ax = plt.subplots(5, 1, figsize  = (30,30))\n",
    "    for index, word in enumerate(word_list):\n",
    "        ax[index].imshow(word, interpolation='bilinear')\n",
    "        ax[index].set_title('Neutral Tweets',fontsize=30)\n",
    "        ax[index].axis('off')\n",
    "\n",
    "    return None"
   ]
  },
  {
   "cell_type": "code",
   "execution_count": 62,
   "id": "fafaab45",
   "metadata": {},
   "outputs": [
    {
     "ename": "TypeError",
     "evalue": "Image data of dtype object cannot be converted to float",
     "output_type": "error",
     "traceback": [
      "\u001b[1;31m---------------------------------------------------------------------------\u001b[0m",
      "\u001b[1;31mTypeError\u001b[0m                                 Traceback (most recent call last)",
      "\u001b[1;32m<ipython-input-62-71855b7fec3b>\u001b[0m in \u001b[0;36m<module>\u001b[1;34m\u001b[0m\n\u001b[1;32m----> 1\u001b[1;33m \u001b[0mdisplay_wordcloud\u001b[0m\u001b[1;33m(\u001b[0m\u001b[0mwordcloud_list\u001b[0m\u001b[1;33m)\u001b[0m\u001b[1;33m\u001b[0m\u001b[1;33m\u001b[0m\u001b[0m\n\u001b[0m\u001b[0;32m      2\u001b[0m \u001b[1;33m\u001b[0m\u001b[0m\n\u001b[0;32m      3\u001b[0m \u001b[1;31m# df_sent1 = df_train_cloud[df_train_cloud['lang_id']==1]\u001b[0m\u001b[1;33m\u001b[0m\u001b[1;33m\u001b[0m\u001b[1;33m\u001b[0m\u001b[0m\n\u001b[0;32m      4\u001b[0m \u001b[1;31m# df_sent0 = df_train_cloud[df_train_cloud['lang_id']==0]\u001b[0m\u001b[1;33m\u001b[0m\u001b[1;33m\u001b[0m\u001b[1;33m\u001b[0m\u001b[0m\n\u001b[0;32m      5\u001b[0m \u001b[1;31m# df_sentneg = df_train_cloud[df_train_cloud['sentiment']==-1]\u001b[0m\u001b[1;33m\u001b[0m\u001b[1;33m\u001b[0m\u001b[1;33m\u001b[0m\u001b[0m\n",
      "\u001b[1;32m<ipython-input-61-d9d7f3402d9d>\u001b[0m in \u001b[0;36mdisplay_wordcloud\u001b[1;34m(word_list)\u001b[0m\n\u001b[0;32m      8\u001b[0m     \u001b[0mfig\u001b[0m\u001b[1;33m,\u001b[0m \u001b[0max\u001b[0m \u001b[1;33m=\u001b[0m \u001b[0mplt\u001b[0m\u001b[1;33m.\u001b[0m\u001b[0msubplots\u001b[0m\u001b[1;33m(\u001b[0m\u001b[1;36m5\u001b[0m\u001b[1;33m,\u001b[0m \u001b[1;36m1\u001b[0m\u001b[1;33m,\u001b[0m \u001b[0mfigsize\u001b[0m  \u001b[1;33m=\u001b[0m \u001b[1;33m(\u001b[0m\u001b[1;36m30\u001b[0m\u001b[1;33m,\u001b[0m\u001b[1;36m30\u001b[0m\u001b[1;33m)\u001b[0m\u001b[1;33m)\u001b[0m\u001b[1;33m\u001b[0m\u001b[1;33m\u001b[0m\u001b[0m\n\u001b[0;32m      9\u001b[0m     \u001b[1;32mfor\u001b[0m \u001b[0mindex\u001b[0m\u001b[1;33m,\u001b[0m \u001b[0mword\u001b[0m \u001b[1;32min\u001b[0m \u001b[0menumerate\u001b[0m\u001b[1;33m(\u001b[0m\u001b[0mword_list\u001b[0m\u001b[1;33m)\u001b[0m\u001b[1;33m:\u001b[0m\u001b[1;33m\u001b[0m\u001b[1;33m\u001b[0m\u001b[0m\n\u001b[1;32m---> 10\u001b[1;33m         \u001b[0max\u001b[0m\u001b[1;33m[\u001b[0m\u001b[0mindex\u001b[0m\u001b[1;33m]\u001b[0m\u001b[1;33m.\u001b[0m\u001b[0mimshow\u001b[0m\u001b[1;33m(\u001b[0m\u001b[0mword\u001b[0m\u001b[1;33m,\u001b[0m \u001b[0minterpolation\u001b[0m\u001b[1;33m=\u001b[0m\u001b[1;34m'bilinear'\u001b[0m\u001b[1;33m)\u001b[0m\u001b[1;33m\u001b[0m\u001b[1;33m\u001b[0m\u001b[0m\n\u001b[0m\u001b[0;32m     11\u001b[0m         \u001b[0max\u001b[0m\u001b[1;33m[\u001b[0m\u001b[0mindex\u001b[0m\u001b[1;33m]\u001b[0m\u001b[1;33m.\u001b[0m\u001b[0mset_title\u001b[0m\u001b[1;33m(\u001b[0m\u001b[1;34m'Neutral Tweets'\u001b[0m\u001b[1;33m,\u001b[0m\u001b[0mfontsize\u001b[0m\u001b[1;33m=\u001b[0m\u001b[1;36m30\u001b[0m\u001b[1;33m)\u001b[0m\u001b[1;33m\u001b[0m\u001b[1;33m\u001b[0m\u001b[0m\n\u001b[0;32m     12\u001b[0m         \u001b[0max\u001b[0m\u001b[1;33m[\u001b[0m\u001b[0mindex\u001b[0m\u001b[1;33m]\u001b[0m\u001b[1;33m.\u001b[0m\u001b[0maxis\u001b[0m\u001b[1;33m(\u001b[0m\u001b[1;34m'off'\u001b[0m\u001b[1;33m)\u001b[0m\u001b[1;33m\u001b[0m\u001b[1;33m\u001b[0m\u001b[0m\n",
      "\u001b[1;32mC:\\ProgramData\\Anaconda3\\lib\\site-packages\\matplotlib\\__init__.py\u001b[0m in \u001b[0;36minner\u001b[1;34m(ax, data, *args, **kwargs)\u001b[0m\n\u001b[0;32m   1445\u001b[0m     \u001b[1;32mdef\u001b[0m \u001b[0minner\u001b[0m\u001b[1;33m(\u001b[0m\u001b[0max\u001b[0m\u001b[1;33m,\u001b[0m \u001b[1;33m*\u001b[0m\u001b[0margs\u001b[0m\u001b[1;33m,\u001b[0m \u001b[0mdata\u001b[0m\u001b[1;33m=\u001b[0m\u001b[1;32mNone\u001b[0m\u001b[1;33m,\u001b[0m \u001b[1;33m**\u001b[0m\u001b[0mkwargs\u001b[0m\u001b[1;33m)\u001b[0m\u001b[1;33m:\u001b[0m\u001b[1;33m\u001b[0m\u001b[1;33m\u001b[0m\u001b[0m\n\u001b[0;32m   1446\u001b[0m         \u001b[1;32mif\u001b[0m \u001b[0mdata\u001b[0m \u001b[1;32mis\u001b[0m \u001b[1;32mNone\u001b[0m\u001b[1;33m:\u001b[0m\u001b[1;33m\u001b[0m\u001b[1;33m\u001b[0m\u001b[0m\n\u001b[1;32m-> 1447\u001b[1;33m             \u001b[1;32mreturn\u001b[0m \u001b[0mfunc\u001b[0m\u001b[1;33m(\u001b[0m\u001b[0max\u001b[0m\u001b[1;33m,\u001b[0m \u001b[1;33m*\u001b[0m\u001b[0mmap\u001b[0m\u001b[1;33m(\u001b[0m\u001b[0msanitize_sequence\u001b[0m\u001b[1;33m,\u001b[0m \u001b[0margs\u001b[0m\u001b[1;33m)\u001b[0m\u001b[1;33m,\u001b[0m \u001b[1;33m**\u001b[0m\u001b[0mkwargs\u001b[0m\u001b[1;33m)\u001b[0m\u001b[1;33m\u001b[0m\u001b[1;33m\u001b[0m\u001b[0m\n\u001b[0m\u001b[0;32m   1448\u001b[0m \u001b[1;33m\u001b[0m\u001b[0m\n\u001b[0;32m   1449\u001b[0m         \u001b[0mbound\u001b[0m \u001b[1;33m=\u001b[0m \u001b[0mnew_sig\u001b[0m\u001b[1;33m.\u001b[0m\u001b[0mbind\u001b[0m\u001b[1;33m(\u001b[0m\u001b[0max\u001b[0m\u001b[1;33m,\u001b[0m \u001b[1;33m*\u001b[0m\u001b[0margs\u001b[0m\u001b[1;33m,\u001b[0m \u001b[1;33m**\u001b[0m\u001b[0mkwargs\u001b[0m\u001b[1;33m)\u001b[0m\u001b[1;33m\u001b[0m\u001b[1;33m\u001b[0m\u001b[0m\n",
      "\u001b[1;32mC:\\ProgramData\\Anaconda3\\lib\\site-packages\\matplotlib\\axes\\_axes.py\u001b[0m in \u001b[0;36mimshow\u001b[1;34m(self, X, cmap, norm, aspect, interpolation, alpha, vmin, vmax, origin, extent, filternorm, filterrad, resample, url, **kwargs)\u001b[0m\n\u001b[0;32m   5521\u001b[0m                               resample=resample, **kwargs)\n\u001b[0;32m   5522\u001b[0m \u001b[1;33m\u001b[0m\u001b[0m\n\u001b[1;32m-> 5523\u001b[1;33m         \u001b[0mim\u001b[0m\u001b[1;33m.\u001b[0m\u001b[0mset_data\u001b[0m\u001b[1;33m(\u001b[0m\u001b[0mX\u001b[0m\u001b[1;33m)\u001b[0m\u001b[1;33m\u001b[0m\u001b[1;33m\u001b[0m\u001b[0m\n\u001b[0m\u001b[0;32m   5524\u001b[0m         \u001b[0mim\u001b[0m\u001b[1;33m.\u001b[0m\u001b[0mset_alpha\u001b[0m\u001b[1;33m(\u001b[0m\u001b[0malpha\u001b[0m\u001b[1;33m)\u001b[0m\u001b[1;33m\u001b[0m\u001b[1;33m\u001b[0m\u001b[0m\n\u001b[0;32m   5525\u001b[0m         \u001b[1;32mif\u001b[0m \u001b[0mim\u001b[0m\u001b[1;33m.\u001b[0m\u001b[0mget_clip_path\u001b[0m\u001b[1;33m(\u001b[0m\u001b[1;33m)\u001b[0m \u001b[1;32mis\u001b[0m \u001b[1;32mNone\u001b[0m\u001b[1;33m:\u001b[0m\u001b[1;33m\u001b[0m\u001b[1;33m\u001b[0m\u001b[0m\n",
      "\u001b[1;32mC:\\ProgramData\\Anaconda3\\lib\\site-packages\\matplotlib\\image.py\u001b[0m in \u001b[0;36mset_data\u001b[1;34m(self, A)\u001b[0m\n\u001b[0;32m    700\u001b[0m         if (self._A.dtype != np.uint8 and\n\u001b[0;32m    701\u001b[0m                 not np.can_cast(self._A.dtype, float, \"same_kind\")):\n\u001b[1;32m--> 702\u001b[1;33m             raise TypeError(\"Image data of dtype {} cannot be converted to \"\n\u001b[0m\u001b[0;32m    703\u001b[0m                             \"float\".format(self._A.dtype))\n\u001b[0;32m    704\u001b[0m \u001b[1;33m\u001b[0m\u001b[0m\n",
      "\u001b[1;31mTypeError\u001b[0m: Image data of dtype object cannot be converted to float"
     ]
    },
    {
     "data": {
      "image/png": "[encoded data removed]",
      "text/plain": [
       "<Figure size 2160x2160 with 5 Axes>"
      ]
     },
     "metadata": {
      "needs_background": "light"
     },
     "output_type": "display_data"
    }
   ],
   "source": [
    "display_wordcloud(wordcloud_list)\n",
    "\n",
    "# df_sent1 = df_train_cloud[df_train_cloud['lang_id']==1]\n",
    "# df_sent0 = df_train_cloud[df_train_cloud['lang_id']==0]\n",
    "# df_sentneg = df_train_cloud[df_train_cloud['sentiment']==-1]\n",
    "# df_sent2 = df_train_cloud[df_train_cloud['sentiment']==2]\n",
    "\n",
    "# tweet_All = \" \".join(review for review in df_train.message)\n",
    "# tweet_sent0 = \" \".join(review for review in df_sent0.message)\n",
    "# tweet_sent1 = \" \".join(review for review in df_sent1.message)\n",
    "# tweet_sentneg = \" \".join(review for review in df_sentneg.message)\n",
    "# tweet_sent2 = \" \".join(review for review in df_sent2.message)\n",
    "\n",
    "# fig, ax = plt.subplots(5, 1, figsize  = (30,30))\n",
    "# # Create and generate a word cloud image:\n",
    "# wordcloud_ALL = WordCloud(max_font_size=50, max_words=100, background_color=\"white\").generate(tweet_All)\n",
    "# wordcloud_sent0 = WordCloud(max_font_size=50, max_words=100, background_color=\"white\").generate(tweet_sent0)\n",
    "# wordcloud_sent1 = WordCloud(max_font_size=50, max_words=100, background_color=\"white\").generate(tweet_sent1)\n",
    "# wordcloud_sentneg = WordCloud(max_font_size=50, max_words=100, background_color=\"white\").generate(tweet_sentneg)\n",
    "# wordcloud_sent2 = WordCloud(max_font_size=50, max_words=100, background_color=\"white\").generate(tweet_sent2)\n",
    "\n",
    "# # Display the generated image:\n",
    "# ax[0].imshow(wordcloud_ALL, interpolation='bilinear')\n",
    "# ax[0].set_title('All Tweets', fontsize=30)\n",
    "# ax[0].axis('off')\n",
    "# ax[1].imshow(wordcloud_sent0, interpolation='bilinear')\n",
    "# ax[1].set_title('Neutral Tweets',fontsize=30)\n",
    "# ax[1].axis('off')\n",
    "# ax[2].imshow(wordcloud_sent1, interpolation='bilinear')\n",
    "# ax[2].set_title('Pro Climate Change',fontsize=30)\n",
    "# ax[2].axis('off')\n",
    "# ax[3].imshow(wordcloud_sentneg, interpolation='bilinear')\n",
    "# ax[3].set_title('Anti Climate Change',fontsize=30)\n",
    "# ax[3].axis('off')\n",
    "# ax[4].imshow(wordcloud_sent2, interpolation='bilinear')\n",
    "# ax[4].set_title('News Tweets',fontsize=30)\n",
    "# ax[4].axis('off')"
   ]
  },
  {
   "cell_type": "markdown",
   "id": "77b34f68",
   "metadata": {},
   "source": [
    "## Also include findings from world cloud in EDA summary"
   ]
  },
  {
   "cell_type": "markdown",
   "id": "ad2f2a7d",
   "metadata": {},
   "source": [
    "### EDA summary\n",
    "- The dataset contains two columns (lang_id and text)\n",
    "- Both columns in the data set are in string format\n",
    "- text columns contains writen words in different languages\n",
    "- lang_id columns contains the language name for the corresponding text columns"
   ]
  },
  {
   "cell_type": "code",
   "execution_count": 14,
   "id": "de51df85",
   "metadata": {},
   "outputs": [],
   "source": [
    "# have a look at feature distributions"
   ]
  },
  {
   "cell_type": "code",
   "execution_count": 11,
   "id": "4aaf5b9b",
   "metadata": {},
   "outputs": [
    {
     "name": "stdout",
     "output_type": "stream",
     "text": [
      "Collecting package metadata (current_repodata.json): ...working... done\n",
      "Note: you may need to restart the kernel to use updated packages.\n",
      "\n"
     ]
    },
    {
     "name": "stderr",
     "output_type": "stream",
     "text": [
      "\n",
      "EnvironmentNotWritableError: The current user does not have write permissions to the target environment.\n",
      "  environment location: C:\\ProgramData\\Anaconda3\n",
      "\n",
      "\n"
     ]
    },
    {
     "name": "stdout",
     "output_type": "stream",
     "text": [
      "Solving environment: ...working... done\n",
      "\n",
      "## Package Plan ##\n",
      "\n",
      "  environment location: C:\\ProgramData\\Anaconda3\n",
      "\n",
      "  added / updated specs:\n",
      "    - wordcloud\n",
      "\n",
      "\n",
      "The following packages will be downloaded:\n",
      "\n",
      "    package                    |            build\n",
      "    ---------------------------|-----------------\n",
      "    conda-4.12.0               |   py38haa95532_0        14.5 MB\n",
      "    wordcloud-1.6.0            |   py38hfa6e2cd_0         189 KB  conda-forge/label/cf202003\n",
      "    ------------------------------------------------------------\n",
      "                                           Total:        14.6 MB\n",
      "\n",
      "The following NEW packages will be INSTALLED:\n",
      "\n",
      "  wordcloud          conda-forge/label/cf202003/win-64::wordcloud-1.6.0-py38hfa6e2cd_0\n",
      "\n",
      "The following packages will be UPDATED:\n",
      "\n",
      "  conda                               4.10.3-py38haa95532_0 --> 4.12.0-py38haa95532_0\n",
      "\n",
      "\n",
      "\n",
      "Downloading and Extracting Packages\n",
      "\n",
      "wordcloud-1.6.0      | 189 KB    |            |   0% \n",
      "wordcloud-1.6.0      | 189 KB    | 8          |   8% \n",
      "wordcloud-1.6.0      | 189 KB    | ####2      |  42% \n",
      "wordcloud-1.6.0      | 189 KB    | #####9     |  59% \n",
      "wordcloud-1.6.0      | 189 KB    | #######6   |  76% \n",
      "wordcloud-1.6.0      | 189 KB    | ########## | 100% \n",
      "wordcloud-1.6.0      | 189 KB    | ########## | 100% \n",
      "\n",
      "conda-4.12.0         | 14.5 MB   |            |   0% \n",
      "conda-4.12.0         | 14.5 MB   |            |   0% \n",
      "conda-4.12.0         | 14.5 MB   |            |   1% \n",
      "conda-4.12.0         | 14.5 MB   | 1          |   2% \n",
      "conda-4.12.0         | 14.5 MB   | 2          |   2% \n",
      "conda-4.12.0         | 14.5 MB   | 3          |   3% \n",
      "conda-4.12.0         | 14.5 MB   | 5          |   6% \n",
      "conda-4.12.0         | 14.5 MB   | 8          |   9% \n",
      "conda-4.12.0         | 14.5 MB   | #1         |  11% \n",
      "conda-4.12.0         | 14.5 MB   | #3         |  13% \n",
      "conda-4.12.0         | 14.5 MB   | #9         |  19% \n",
      "conda-4.12.0         | 14.5 MB   | ##4        |  25% \n",
      "conda-4.12.0         | 14.5 MB   | ##8        |  29% \n",
      "conda-4.12.0         | 14.5 MB   | ###3       |  33% \n",
      "conda-4.12.0         | 14.5 MB   | ###6       |  37% \n",
      "conda-4.12.0         | 14.5 MB   | ####       |  40% \n",
      "conda-4.12.0         | 14.5 MB   | ####3      |  44% \n",
      "conda-4.12.0         | 14.5 MB   | #####3     |  54% \n",
      "conda-4.12.0         | 14.5 MB   | #####8     |  59% \n",
      "conda-4.12.0         | 14.5 MB   | ######6    |  66% \n",
      "conda-4.12.0         | 14.5 MB   | #######1   |  71% \n",
      "conda-4.12.0         | 14.5 MB   | #######5   |  75% \n",
      "conda-4.12.0         | 14.5 MB   | #######9   |  79% \n",
      "conda-4.12.0         | 14.5 MB   | ########4  |  85% \n",
      "conda-4.12.0         | 14.5 MB   | ########8  |  89% \n",
      "conda-4.12.0         | 14.5 MB   | #########4 |  94% \n",
      "conda-4.12.0         | 14.5 MB   | #########8 |  98% \n",
      "conda-4.12.0         | 14.5 MB   | ########## | 100% \n",
      "Preparing transaction: ...working... done\n",
      "Verifying transaction: ...working... failed\n"
     ]
    }
   ],
   "source": [
    "conda install -c conda-forge/label/cf202003 wordcloud"
   ]
  },
  {
   "cell_type": "markdown",
   "id": "3fa93ec6",
   "metadata": {},
   "source": [
    "<a id=\"four\"></a>\n",
    "## 4. Data Engineering\n",
    "<a class=\"anchor\" id=\"1.1\"></a>\n",
    "<a href=#cont>Back to Table of Contents</a>\n",
    "\n",
    "---\n",
    "    \n",
    "| ⚡ Description: Data engineering ⚡ |\n",
    "| :--------------------------- |\n",
    "| In this section you are required to: clean the dataset, and possibly create new features - as identified in the EDA phase. |\n",
    "\n",
    "---"
   ]
  },
  {
   "cell_type": "markdown",
   "id": "83ced808",
   "metadata": {},
   "source": [
    "## Text Cleaning\n",
    "\n",
    "### Removing Noise"
   ]
  },
  {
   "cell_type": "markdown",
   "id": "b7ba0d8c",
   "metadata": {},
   "source": [
    "For the given dataset, we identified that the *message* column contains the novel tweet for each userid, which we are espected to classify. \n",
    "For us to proceed we have to carry out cleaning on this messages. This cleaning will be achieved through:\n",
    "* identify and remove web-urls from the main message \n",
    "* idendify and remove words started with '#'\n",
    "* idendify and remove words started with '@'\n",
    "* making everything lower case\n",
    "* removing punctuation\n",
    "\n"
   ]
  },
  {
   "cell_type": "markdown",
   "id": "02ab1ea8",
   "metadata": {},
   "source": [
    "#### Remove web-url from message\n",
    "\n",
    "We write a function called *delete_url*. This function uses regex to identify web-url in a column and remove same from the column."
   ]
  },
  {
   "cell_type": "code",
   "execution_count": 15,
   "id": "059c2f3e",
   "metadata": {},
   "outputs": [],
   "source": [
    "def delete_url(data, col):\n",
    "    \"\"\"\n",
    "        Accepts a dataframe and col., removes web urls from the col.\n",
    "        returns a new dataframe \n",
    "    \"\"\"\n",
    "    df = data.copy()\n",
    "    pattern_url = r'http[s]?://(?:[A-Za-z]|[0-9]|[$-_@.&+]|[!*\\(\\),]|(?:%[0-9A-Fa-f][0-9A-Fa-f]))+'\n",
    "    subs_url = ''\n",
    "    df[col] = df[col].replace(to_replace = pattern_url, value = subs_url, regex = True)\n",
    "    return df"
   ]
  },
  {
   "cell_type": "code",
   "execution_count": 16,
   "id": "98fa8207",
   "metadata": {},
   "outputs": [
    {
     "data": {
      "text/html": [
       "<div>\n",
       "<style scoped>\n",
       "    .dataframe tbody tr th:only-of-type {\n",
       "        vertical-align: middle;\n",
       "    }\n",
       "\n",
       "    .dataframe tbody tr th {\n",
       "        vertical-align: top;\n",
       "    }\n",
       "\n",
       "    .dataframe thead th {\n",
       "        text-align: right;\n",
       "    }\n",
       "</style>\n",
       "<table border=\"1\" class=\"dataframe\">\n",
       "  <thead>\n",
       "    <tr style=\"text-align: right;\">\n",
       "      <th></th>\n",
       "      <th>sentiment</th>\n",
       "      <th>message</th>\n",
       "      <th>tweetid</th>\n",
       "    </tr>\n",
       "  </thead>\n",
       "  <tbody>\n",
       "    <tr>\n",
       "      <th>0</th>\n",
       "      <td>1</td>\n",
       "      <td>PolySciMajor EPA chief doesn't think carbon di...</td>\n",
       "      <td>625221</td>\n",
       "    </tr>\n",
       "    <tr>\n",
       "      <th>1</th>\n",
       "      <td>1</td>\n",
       "      <td>It's not like we lack evidence of anthropogeni...</td>\n",
       "      <td>126103</td>\n",
       "    </tr>\n",
       "    <tr>\n",
       "      <th>2</th>\n",
       "      <td>2</td>\n",
       "      <td>RT @RawStory: Researchers say we have three ye...</td>\n",
       "      <td>698562</td>\n",
       "    </tr>\n",
       "    <tr>\n",
       "      <th>3</th>\n",
       "      <td>1</td>\n",
       "      <td>#TodayinMaker# WIRED : 2016 was a pivotal year...</td>\n",
       "      <td>573736</td>\n",
       "    </tr>\n",
       "    <tr>\n",
       "      <th>4</th>\n",
       "      <td>1</td>\n",
       "      <td>RT @SoyNovioDeTodas: It's 2016, and a racist, ...</td>\n",
       "      <td>466954</td>\n",
       "    </tr>\n",
       "  </tbody>\n",
       "</table>\n",
       "</div>"
      ],
      "text/plain": [
       "   sentiment                                            message  tweetid\n",
       "0          1  PolySciMajor EPA chief doesn't think carbon di...   625221\n",
       "1          1  It's not like we lack evidence of anthropogeni...   126103\n",
       "2          2  RT @RawStory: Researchers say we have three ye...   698562\n",
       "3          1  #TodayinMaker# WIRED : 2016 was a pivotal year...   573736\n",
       "4          1  RT @SoyNovioDeTodas: It's 2016, and a racist, ...   466954"
      ]
     },
     "execution_count": 16,
     "metadata": {},
     "output_type": "execute_result"
    }
   ],
   "source": [
    "# Create a new dataframe with message colun void of url links\n",
    "new_df_train = delete_url(df_train, 'message')\n",
    "new_df_train.head()"
   ]
  },
  {
   "cell_type": "code",
   "execution_count": 17,
   "id": "84eea17b",
   "metadata": {},
   "outputs": [
    {
     "data": {
      "text/plain": [
       "\"PolySciMajor EPA chief doesn't think carbon dioxide is main cause of global warming and.. wait, what!?  via @mashable\""
      ]
     },
     "execution_count": 17,
     "metadata": {},
     "output_type": "execute_result"
    }
   ],
   "source": [
    "# Confirm that the above operation was successful \n",
    "new_df_train['message'][0]"
   ]
  },
  {
   "cell_type": "code",
   "execution_count": 18,
   "id": "59692724",
   "metadata": {},
   "outputs": [
    {
     "data": {
      "text/plain": [
       "\"PolySciMajor EPA chief doesn't think carbon dioxide is main cause of global warming and.. wait, what!? https://t.co/yeLvcEFXkC via @mashable\""
      ]
     },
     "execution_count": 18,
     "metadata": {},
     "output_type": "execute_result"
    }
   ],
   "source": [
    "df_train['message'][0]"
   ]
  },
  {
   "cell_type": "markdown",
   "id": "100b3c36",
   "metadata": {},
   "source": [
    "### Remove '#' and '@' words\n",
    "\n",
    "We write a function *delete_tags*, to identify and remove words started with '#' and '@'"
   ]
  },
  {
   "cell_type": "code",
   "execution_count": 19,
   "id": "92a0f539",
   "metadata": {},
   "outputs": [],
   "source": [
    "def delete_tags(data, col):\n",
    "    \"\"\"\n",
    "        This function takes in a dataframe and a col, removes all words started with '#' and '@' in the column,\n",
    "        and returns a new dataframe\n",
    "    \"\"\"\n",
    "    df = data.copy()\n",
    "    pattern_tags = r'#\\w+[#?]'\n",
    "    pattern_2 = r'@\\w+'\n",
    "    subs_tag = ''\n",
    "    df[col] = df[col].replace(to_replace = pattern_tags, value = subs_tag, regex = True)\n",
    "    df[col] = df[col].replace(to_replace = pattern_2, value = subs_tag, regex = True)\n",
    "    return df"
   ]
  },
  {
   "cell_type": "code",
   "execution_count": 20,
   "id": "8422fbf9",
   "metadata": {},
   "outputs": [
    {
     "data": {
      "text/html": [
       "<div>\n",
       "<style scoped>\n",
       "    .dataframe tbody tr th:only-of-type {\n",
       "        vertical-align: middle;\n",
       "    }\n",
       "\n",
       "    .dataframe tbody tr th {\n",
       "        vertical-align: top;\n",
       "    }\n",
       "\n",
       "    .dataframe thead th {\n",
       "        text-align: right;\n",
       "    }\n",
       "</style>\n",
       "<table border=\"1\" class=\"dataframe\">\n",
       "  <thead>\n",
       "    <tr style=\"text-align: right;\">\n",
       "      <th></th>\n",
       "      <th>sentiment</th>\n",
       "      <th>message</th>\n",
       "      <th>tweetid</th>\n",
       "    </tr>\n",
       "  </thead>\n",
       "  <tbody>\n",
       "    <tr>\n",
       "      <th>0</th>\n",
       "      <td>1</td>\n",
       "      <td>PolySciMajor EPA chief doesn't think carbon di...</td>\n",
       "      <td>625221</td>\n",
       "    </tr>\n",
       "    <tr>\n",
       "      <th>1</th>\n",
       "      <td>1</td>\n",
       "      <td>It's not like we lack evidence of anthropogeni...</td>\n",
       "      <td>126103</td>\n",
       "    </tr>\n",
       "    <tr>\n",
       "      <th>2</th>\n",
       "      <td>2</td>\n",
       "      <td>RT : Researchers say we have three years to ac...</td>\n",
       "      <td>698562</td>\n",
       "    </tr>\n",
       "    <tr>\n",
       "      <th>3</th>\n",
       "      <td>1</td>\n",
       "      <td>WIRED : 2016 was a pivotal year in the war on...</td>\n",
       "      <td>573736</td>\n",
       "    </tr>\n",
       "    <tr>\n",
       "      <th>4</th>\n",
       "      <td>1</td>\n",
       "      <td>RT : It's 2016, and a racist, sexist, climate ...</td>\n",
       "      <td>466954</td>\n",
       "    </tr>\n",
       "  </tbody>\n",
       "</table>\n",
       "</div>"
      ],
      "text/plain": [
       "   sentiment                                            message  tweetid\n",
       "0          1  PolySciMajor EPA chief doesn't think carbon di...   625221\n",
       "1          1  It's not like we lack evidence of anthropogeni...   126103\n",
       "2          2  RT : Researchers say we have three years to ac...   698562\n",
       "3          1   WIRED : 2016 was a pivotal year in the war on...   573736\n",
       "4          1  RT : It's 2016, and a racist, sexist, climate ...   466954"
      ]
     },
     "execution_count": 20,
     "metadata": {},
     "output_type": "execute_result"
    }
   ],
   "source": [
    "# Create a new dataframe with message colun void of url links\n",
    "new_df_train = delete_tags(new_df_train, 'message')\n",
    "new_df_train.head()"
   ]
  },
  {
   "cell_type": "markdown",
   "id": "4a7ec814",
   "metadata": {},
   "source": [
    "### Convert capitalized words to lowercase words\n",
    "\n",
    "We write a function *word_converter* to convert capitalized words to lowercase words"
   ]
  },
  {
   "cell_type": "code",
   "execution_count": 21,
   "id": "bcb93891",
   "metadata": {},
   "outputs": [],
   "source": [
    "def word_converter(data, col):\n",
    "    \"\"\"\n",
    "        This function takes in a dataframe and col, converts all capitalized words in the column to lowercase,\n",
    "        and returns a new dataframe.\n",
    "    \"\"\"\n",
    "    df = data.copy()\n",
    "    df[col] = df[col].str.lower()\n",
    "    return df"
   ]
  },
  {
   "cell_type": "code",
   "execution_count": 22,
   "id": "5ac78c19",
   "metadata": {},
   "outputs": [
    {
     "data": {
      "text/html": [
       "<div>\n",
       "<style scoped>\n",
       "    .dataframe tbody tr th:only-of-type {\n",
       "        vertical-align: middle;\n",
       "    }\n",
       "\n",
       "    .dataframe tbody tr th {\n",
       "        vertical-align: top;\n",
       "    }\n",
       "\n",
       "    .dataframe thead th {\n",
       "        text-align: right;\n",
       "    }\n",
       "</style>\n",
       "<table border=\"1\" class=\"dataframe\">\n",
       "  <thead>\n",
       "    <tr style=\"text-align: right;\">\n",
       "      <th></th>\n",
       "      <th>sentiment</th>\n",
       "      <th>message</th>\n",
       "      <th>tweetid</th>\n",
       "    </tr>\n",
       "  </thead>\n",
       "  <tbody>\n",
       "    <tr>\n",
       "      <th>0</th>\n",
       "      <td>1</td>\n",
       "      <td>polyscimajor epa chief doesn't think carbon di...</td>\n",
       "      <td>625221</td>\n",
       "    </tr>\n",
       "    <tr>\n",
       "      <th>1</th>\n",
       "      <td>1</td>\n",
       "      <td>it's not like we lack evidence of anthropogeni...</td>\n",
       "      <td>126103</td>\n",
       "    </tr>\n",
       "    <tr>\n",
       "      <th>2</th>\n",
       "      <td>2</td>\n",
       "      <td>rt : researchers say we have three years to ac...</td>\n",
       "      <td>698562</td>\n",
       "    </tr>\n",
       "    <tr>\n",
       "      <th>3</th>\n",
       "      <td>1</td>\n",
       "      <td>wired : 2016 was a pivotal year in the war on...</td>\n",
       "      <td>573736</td>\n",
       "    </tr>\n",
       "    <tr>\n",
       "      <th>4</th>\n",
       "      <td>1</td>\n",
       "      <td>rt : it's 2016, and a racist, sexist, climate ...</td>\n",
       "      <td>466954</td>\n",
       "    </tr>\n",
       "  </tbody>\n",
       "</table>\n",
       "</div>"
      ],
      "text/plain": [
       "   sentiment                                            message  tweetid\n",
       "0          1  polyscimajor epa chief doesn't think carbon di...   625221\n",
       "1          1  it's not like we lack evidence of anthropogeni...   126103\n",
       "2          2  rt : researchers say we have three years to ac...   698562\n",
       "3          1   wired : 2016 was a pivotal year in the war on...   573736\n",
       "4          1  rt : it's 2016, and a racist, sexist, climate ...   466954"
      ]
     },
     "execution_count": 22,
     "metadata": {},
     "output_type": "execute_result"
    }
   ],
   "source": [
    "# Create a new dataframe with all words in the message column converted to its lowercase form\n",
    "new_df_train = word_converter(new_df_train, 'message')\n",
    "new_df_train.head()"
   ]
  },
  {
   "cell_type": "markdown",
   "id": "3b4f51a4",
   "metadata": {},
   "source": [
    "### Remove punctuation\n",
    "\n",
    "We write a function *remove_punc* that uses the string package from python to remove punctions."
   ]
  },
  {
   "cell_type": "code",
   "execution_count": 23,
   "id": "87a4a08d",
   "metadata": {},
   "outputs": [],
   "source": [
    "def remove_punc(data, col):\n",
    "    \"\"\"\n",
    "        This function takes in a dataframe and a column, uses python string package to identify and remove all\n",
    "        punctions in the column. It returns a new dataframe\n",
    "    \"\"\"\n",
    "    def operation(post):\n",
    "        return ''.join([l for l in post if l not in string.punctuation])\n",
    "    \n",
    "    df = data.copy()\n",
    "    \n",
    "    df[col] = df[col].apply(operation)\n",
    "    return df"
   ]
  },
  {
   "cell_type": "code",
   "execution_count": 24,
   "id": "d0deb07b",
   "metadata": {},
   "outputs": [
    {
     "data": {
      "text/html": [
       "<div>\n",
       "<style scoped>\n",
       "    .dataframe tbody tr th:only-of-type {\n",
       "        vertical-align: middle;\n",
       "    }\n",
       "\n",
       "    .dataframe tbody tr th {\n",
       "        vertical-align: top;\n",
       "    }\n",
       "\n",
       "    .dataframe thead th {\n",
       "        text-align: right;\n",
       "    }\n",
       "</style>\n",
       "<table border=\"1\" class=\"dataframe\">\n",
       "  <thead>\n",
       "    <tr style=\"text-align: right;\">\n",
       "      <th></th>\n",
       "      <th>sentiment</th>\n",
       "      <th>message</th>\n",
       "      <th>tweetid</th>\n",
       "    </tr>\n",
       "  </thead>\n",
       "  <tbody>\n",
       "    <tr>\n",
       "      <th>0</th>\n",
       "      <td>1</td>\n",
       "      <td>polyscimajor epa chief doesnt think carbon dio...</td>\n",
       "      <td>625221</td>\n",
       "    </tr>\n",
       "    <tr>\n",
       "      <th>1</th>\n",
       "      <td>1</td>\n",
       "      <td>its not like we lack evidence of anthropogenic...</td>\n",
       "      <td>126103</td>\n",
       "    </tr>\n",
       "    <tr>\n",
       "      <th>2</th>\n",
       "      <td>2</td>\n",
       "      <td>rt  researchers say we have three years to act...</td>\n",
       "      <td>698562</td>\n",
       "    </tr>\n",
       "    <tr>\n",
       "      <th>3</th>\n",
       "      <td>1</td>\n",
       "      <td>wired  2016 was a pivotal year in the war on ...</td>\n",
       "      <td>573736</td>\n",
       "    </tr>\n",
       "    <tr>\n",
       "      <th>4</th>\n",
       "      <td>1</td>\n",
       "      <td>rt  its 2016 and a racist sexist climate chang...</td>\n",
       "      <td>466954</td>\n",
       "    </tr>\n",
       "  </tbody>\n",
       "</table>\n",
       "</div>"
      ],
      "text/plain": [
       "   sentiment                                            message  tweetid\n",
       "0          1  polyscimajor epa chief doesnt think carbon dio...   625221\n",
       "1          1  its not like we lack evidence of anthropogenic...   126103\n",
       "2          2  rt  researchers say we have three years to act...   698562\n",
       "3          1   wired  2016 was a pivotal year in the war on ...   573736\n",
       "4          1  rt  its 2016 and a racist sexist climate chang...   466954"
      ]
     },
     "execution_count": 24,
     "metadata": {},
     "output_type": "execute_result"
    }
   ],
   "source": [
    "# Create a new dataframe with the message colmn void of punctuations\n",
    "new_df_train = remove_punc(new_df_train, 'message')\n",
    "new_df_train.head()"
   ]
  },
  {
   "cell_type": "markdown",
   "id": "e0bb8adf",
   "metadata": {},
   "source": [
    "### Remove new lines (\\n)  and 'rt' from the start of any words\n",
    "\n",
    "We noticed that some words start with '\\n' and this is a short form for new line in programming, words started with \\n looses its original meaning.\n",
    "\n",
    "Hence we write a function remove_new_line to execute this task."
   ]
  },
  {
   "cell_type": "code",
   "execution_count": 25,
   "id": "69ee9e88",
   "metadata": {},
   "outputs": [],
   "source": [
    "\n",
    "def remove_new_line(data, col):\n",
    "    \"\"\"\n",
    "        Takes in a dataframe and a column, returns a new dataframe with a new column void of new line command\n",
    "    \"\"\"\n",
    "\n",
    "    def operation(text):\n",
    "        result = re.sub(\"\\n\", \"\", text)\n",
    "        result = re.sub(\"rt\", \"\", result)\n",
    "        return result\n",
    "\n",
    "    df = data.copy()\n",
    "    \n",
    "    df[col] = df[col].apply(operation)\n",
    "\n",
    "    return df"
   ]
  },
  {
   "cell_type": "code",
   "execution_count": 26,
   "id": "e7548016",
   "metadata": {},
   "outputs": [
    {
     "data": {
      "text/html": [
       "<div>\n",
       "<style scoped>\n",
       "    .dataframe tbody tr th:only-of-type {\n",
       "        vertical-align: middle;\n",
       "    }\n",
       "\n",
       "    .dataframe tbody tr th {\n",
       "        vertical-align: top;\n",
       "    }\n",
       "\n",
       "    .dataframe thead th {\n",
       "        text-align: right;\n",
       "    }\n",
       "</style>\n",
       "<table border=\"1\" class=\"dataframe\">\n",
       "  <thead>\n",
       "    <tr style=\"text-align: right;\">\n",
       "      <th></th>\n",
       "      <th>sentiment</th>\n",
       "      <th>message</th>\n",
       "      <th>tweetid</th>\n",
       "    </tr>\n",
       "  </thead>\n",
       "  <tbody>\n",
       "    <tr>\n",
       "      <th>0</th>\n",
       "      <td>1</td>\n",
       "      <td>polyscimajor epa chief doesnt think carbon dio...</td>\n",
       "      <td>625221</td>\n",
       "    </tr>\n",
       "    <tr>\n",
       "      <th>1</th>\n",
       "      <td>1</td>\n",
       "      <td>its not like we lack evidence of anthropogenic...</td>\n",
       "      <td>126103</td>\n",
       "    </tr>\n",
       "    <tr>\n",
       "      <th>2</th>\n",
       "      <td>2</td>\n",
       "      <td>researchers say we have three years to act o...</td>\n",
       "      <td>698562</td>\n",
       "    </tr>\n",
       "    <tr>\n",
       "      <th>3</th>\n",
       "      <td>1</td>\n",
       "      <td>wired  2016 was a pivotal year in the war on ...</td>\n",
       "      <td>573736</td>\n",
       "    </tr>\n",
       "    <tr>\n",
       "      <th>4</th>\n",
       "      <td>1</td>\n",
       "      <td>its 2016 and a racist sexist climate change ...</td>\n",
       "      <td>466954</td>\n",
       "    </tr>\n",
       "  </tbody>\n",
       "</table>\n",
       "</div>"
      ],
      "text/plain": [
       "   sentiment                                            message  tweetid\n",
       "0          1  polyscimajor epa chief doesnt think carbon dio...   625221\n",
       "1          1  its not like we lack evidence of anthropogenic...   126103\n",
       "2          2    researchers say we have three years to act o...   698562\n",
       "3          1   wired  2016 was a pivotal year in the war on ...   573736\n",
       "4          1    its 2016 and a racist sexist climate change ...   466954"
      ]
     },
     "execution_count": 26,
     "metadata": {},
     "output_type": "execute_result"
    }
   ],
   "source": [
    "# Create a new dataframe with the message colmn void of punctuations\n",
    "new_df_train = remove_new_line(new_df_train, 'message')\n",
    "new_df_train.head()"
   ]
  },
  {
   "cell_type": "markdown",
   "id": "1aa36e01",
   "metadata": {},
   "source": [
    "### Tokenisation\n",
    "\n",
    "We write a function *tokenizer* to tokenize the words in the message column and store same in a new column named *message_tok*"
   ]
  },
  {
   "cell_type": "code",
   "execution_count": 27,
   "id": "897e0d03",
   "metadata": {},
   "outputs": [],
   "source": [
    "def tokenizer(data, col):\n",
    "    \"\"\"\n",
    "        This function takes in a dataframe and a col, creates a new column to store the tokenized words\n",
    "        in the inputed column, and returns a new dataframe.\n",
    "    \"\"\"\n",
    "    df = data.copy()\n",
    "    tokeniser = TreebankWordTokenizer()\n",
    "    df['message_tok'] = df[col].apply(tokeniser.tokenize)\n",
    "    return df"
   ]
  },
  {
   "cell_type": "code",
   "execution_count": 28,
   "id": "ea5182f0",
   "metadata": {},
   "outputs": [
    {
     "data": {
      "text/html": [
       "<div>\n",
       "<style scoped>\n",
       "    .dataframe tbody tr th:only-of-type {\n",
       "        vertical-align: middle;\n",
       "    }\n",
       "\n",
       "    .dataframe tbody tr th {\n",
       "        vertical-align: top;\n",
       "    }\n",
       "\n",
       "    .dataframe thead th {\n",
       "        text-align: right;\n",
       "    }\n",
       "</style>\n",
       "<table border=\"1\" class=\"dataframe\">\n",
       "  <thead>\n",
       "    <tr style=\"text-align: right;\">\n",
       "      <th></th>\n",
       "      <th>sentiment</th>\n",
       "      <th>message</th>\n",
       "      <th>tweetid</th>\n",
       "      <th>message_tok</th>\n",
       "    </tr>\n",
       "  </thead>\n",
       "  <tbody>\n",
       "    <tr>\n",
       "      <th>0</th>\n",
       "      <td>1</td>\n",
       "      <td>polyscimajor epa chief doesnt think carbon dio...</td>\n",
       "      <td>625221</td>\n",
       "      <td>[polyscimajor, epa, chief, doesnt, think, carb...</td>\n",
       "    </tr>\n",
       "    <tr>\n",
       "      <th>1</th>\n",
       "      <td>1</td>\n",
       "      <td>its not like we lack evidence of anthropogenic...</td>\n",
       "      <td>126103</td>\n",
       "      <td>[its, not, like, we, lack, evidence, of, anthr...</td>\n",
       "    </tr>\n",
       "    <tr>\n",
       "      <th>2</th>\n",
       "      <td>2</td>\n",
       "      <td>researchers say we have three years to act o...</td>\n",
       "      <td>698562</td>\n",
       "      <td>[researchers, say, we, have, three, years, to,...</td>\n",
       "    </tr>\n",
       "    <tr>\n",
       "      <th>3</th>\n",
       "      <td>1</td>\n",
       "      <td>wired  2016 was a pivotal year in the war on ...</td>\n",
       "      <td>573736</td>\n",
       "      <td>[wired, 2016, was, a, pivotal, year, in, the, ...</td>\n",
       "    </tr>\n",
       "    <tr>\n",
       "      <th>4</th>\n",
       "      <td>1</td>\n",
       "      <td>its 2016 and a racist sexist climate change ...</td>\n",
       "      <td>466954</td>\n",
       "      <td>[its, 2016, and, a, racist, sexist, climate, c...</td>\n",
       "    </tr>\n",
       "  </tbody>\n",
       "</table>\n",
       "</div>"
      ],
      "text/plain": [
       "   sentiment                                            message  tweetid  \\\n",
       "0          1  polyscimajor epa chief doesnt think carbon dio...   625221   \n",
       "1          1  its not like we lack evidence of anthropogenic...   126103   \n",
       "2          2    researchers say we have three years to act o...   698562   \n",
       "3          1   wired  2016 was a pivotal year in the war on ...   573736   \n",
       "4          1    its 2016 and a racist sexist climate change ...   466954   \n",
       "\n",
       "                                         message_tok  \n",
       "0  [polyscimajor, epa, chief, doesnt, think, carb...  \n",
       "1  [its, not, like, we, lack, evidence, of, anthr...  \n",
       "2  [researchers, say, we, have, three, years, to,...  \n",
       "3  [wired, 2016, was, a, pivotal, year, in, the, ...  \n",
       "4  [its, 2016, and, a, racist, sexist, climate, c...  "
      ]
     },
     "execution_count": 28,
     "metadata": {},
     "output_type": "execute_result"
    }
   ],
   "source": [
    "# Create a new column to hold the tokens from message column\n",
    "new_df_train = tokenizer(new_df_train, 'message')\n",
    "new_df_train.head()"
   ]
  },
  {
   "cell_type": "markdown",
   "id": "e93c845c",
   "metadata": {},
   "source": [
    "### Stemming\n",
    "\n",
    "We write a function *stem_words* to transform all words in the *message_tok* column to its root form."
   ]
  },
  {
   "cell_type": "code",
   "execution_count": 29,
   "id": "4957f7b2",
   "metadata": {},
   "outputs": [],
   "source": [
    "def stem_words(data, col):\n",
    "    \"\"\"\n",
    "        Takes in a dataframe and a column, converts the words in the column to it root form,\n",
    "        with the aid of SnowballStemmer class from the nltk package.\n",
    "        Returns a new dataframe with an additional column \"message_stem\"\n",
    "    \"\"\"\n",
    "    stemmer = SnowballStemmer('english')\n",
    "    def operation(words, stemmer):\n",
    "        return [stemmer.stem(word) for word in words]\n",
    "    \n",
    "    df = data.copy()\n",
    "    df[\"message_stem\"] = df[col].apply(operation, args=(stemmer, ))\n",
    "    \n",
    "    return df"
   ]
  },
  {
   "cell_type": "code",
   "execution_count": 30,
   "id": "09d2c7be",
   "metadata": {},
   "outputs": [
    {
     "data": {
      "text/html": [
       "<div>\n",
       "<style scoped>\n",
       "    .dataframe tbody tr th:only-of-type {\n",
       "        vertical-align: middle;\n",
       "    }\n",
       "\n",
       "    .dataframe tbody tr th {\n",
       "        vertical-align: top;\n",
       "    }\n",
       "\n",
       "    .dataframe thead th {\n",
       "        text-align: right;\n",
       "    }\n",
       "</style>\n",
       "<table border=\"1\" class=\"dataframe\">\n",
       "  <thead>\n",
       "    <tr style=\"text-align: right;\">\n",
       "      <th></th>\n",
       "      <th>sentiment</th>\n",
       "      <th>message</th>\n",
       "      <th>tweetid</th>\n",
       "      <th>message_tok</th>\n",
       "      <th>message_stem</th>\n",
       "    </tr>\n",
       "  </thead>\n",
       "  <tbody>\n",
       "    <tr>\n",
       "      <th>0</th>\n",
       "      <td>1</td>\n",
       "      <td>polyscimajor epa chief doesnt think carbon dio...</td>\n",
       "      <td>625221</td>\n",
       "      <td>[polyscimajor, epa, chief, doesnt, think, carb...</td>\n",
       "      <td>[polyscimajor, epa, chief, doesnt, think, carb...</td>\n",
       "    </tr>\n",
       "    <tr>\n",
       "      <th>1</th>\n",
       "      <td>1</td>\n",
       "      <td>its not like we lack evidence of anthropogenic...</td>\n",
       "      <td>126103</td>\n",
       "      <td>[its, not, like, we, lack, evidence, of, anthr...</td>\n",
       "      <td>[it, not, like, we, lack, evid, of, anthropoge...</td>\n",
       "    </tr>\n",
       "    <tr>\n",
       "      <th>2</th>\n",
       "      <td>2</td>\n",
       "      <td>researchers say we have three years to act o...</td>\n",
       "      <td>698562</td>\n",
       "      <td>[researchers, say, we, have, three, years, to,...</td>\n",
       "      <td>[research, say, we, have, three, year, to, act...</td>\n",
       "    </tr>\n",
       "    <tr>\n",
       "      <th>3</th>\n",
       "      <td>1</td>\n",
       "      <td>wired  2016 was a pivotal year in the war on ...</td>\n",
       "      <td>573736</td>\n",
       "      <td>[wired, 2016, was, a, pivotal, year, in, the, ...</td>\n",
       "      <td>[wire, 2016, was, a, pivot, year, in, the, war...</td>\n",
       "    </tr>\n",
       "    <tr>\n",
       "      <th>4</th>\n",
       "      <td>1</td>\n",
       "      <td>its 2016 and a racist sexist climate change ...</td>\n",
       "      <td>466954</td>\n",
       "      <td>[its, 2016, and, a, racist, sexist, climate, c...</td>\n",
       "      <td>[it, 2016, and, a, racist, sexist, climat, cha...</td>\n",
       "    </tr>\n",
       "  </tbody>\n",
       "</table>\n",
       "</div>"
      ],
      "text/plain": [
       "   sentiment                                            message  tweetid  \\\n",
       "0          1  polyscimajor epa chief doesnt think carbon dio...   625221   \n",
       "1          1  its not like we lack evidence of anthropogenic...   126103   \n",
       "2          2    researchers say we have three years to act o...   698562   \n",
       "3          1   wired  2016 was a pivotal year in the war on ...   573736   \n",
       "4          1    its 2016 and a racist sexist climate change ...   466954   \n",
       "\n",
       "                                         message_tok  \\\n",
       "0  [polyscimajor, epa, chief, doesnt, think, carb...   \n",
       "1  [its, not, like, we, lack, evidence, of, anthr...   \n",
       "2  [researchers, say, we, have, three, years, to,...   \n",
       "3  [wired, 2016, was, a, pivotal, year, in, the, ...   \n",
       "4  [its, 2016, and, a, racist, sexist, climate, c...   \n",
       "\n",
       "                                        message_stem  \n",
       "0  [polyscimajor, epa, chief, doesnt, think, carb...  \n",
       "1  [it, not, like, we, lack, evid, of, anthropoge...  \n",
       "2  [research, say, we, have, three, year, to, act...  \n",
       "3  [wire, 2016, was, a, pivot, year, in, the, war...  \n",
       "4  [it, 2016, and, a, racist, sexist, climat, cha...  "
      ]
     },
     "execution_count": 30,
     "metadata": {},
     "output_type": "execute_result"
    }
   ],
   "source": [
    "# Create a new column to hold root words from stemmer\n",
    "new_df_train = stem_words(new_df_train, 'message_tok')\n",
    "new_df_train.head()"
   ]
  },
  {
   "cell_type": "markdown",
   "id": "e7c55afc",
   "metadata": {},
   "source": [
    "### Larmming\n",
    "\n",
    "We write a function *lam_words* to transform all words in the *message_tok* column to its root form using Lemmatization, to enable us acrter for the shortfall in stemming above."
   ]
  },
  {
   "cell_type": "code",
   "execution_count": 31,
   "id": "148e0026",
   "metadata": {},
   "outputs": [],
   "source": [
    "def lam_words(data, col):\n",
    "    \"\"\"\n",
    "        Takes in a dataframe and a column, converts the words in the column to it root form,\n",
    "        with the aid of WordNetLemmatizer class from the nltk package.\n",
    "        Returns a new dataframe with an additional column \"message_lam\"\n",
    "    \"\"\"\n",
    "    lemmatizer = WordNetLemmatizer()\n",
    "    def operation(words, lemmatizer):\n",
    "        return [lemmatizer.lemmatize(word) for word in words] \n",
    "    df = data.copy()\n",
    "    df[\"message_lam\"] = df[col].apply(operation, args=(lemmatizer, ))\n",
    "    \n",
    "    return df"
   ]
  },
  {
   "cell_type": "code",
   "execution_count": 32,
   "id": "ea6ae293",
   "metadata": {},
   "outputs": [
    {
     "data": {
      "text/html": [
       "<div>\n",
       "<style scoped>\n",
       "    .dataframe tbody tr th:only-of-type {\n",
       "        vertical-align: middle;\n",
       "    }\n",
       "\n",
       "    .dataframe tbody tr th {\n",
       "        vertical-align: top;\n",
       "    }\n",
       "\n",
       "    .dataframe thead th {\n",
       "        text-align: right;\n",
       "    }\n",
       "</style>\n",
       "<table border=\"1\" class=\"dataframe\">\n",
       "  <thead>\n",
       "    <tr style=\"text-align: right;\">\n",
       "      <th></th>\n",
       "      <th>sentiment</th>\n",
       "      <th>message</th>\n",
       "      <th>tweetid</th>\n",
       "      <th>message_tok</th>\n",
       "      <th>message_stem</th>\n",
       "      <th>message_lam</th>\n",
       "    </tr>\n",
       "  </thead>\n",
       "  <tbody>\n",
       "    <tr>\n",
       "      <th>0</th>\n",
       "      <td>1</td>\n",
       "      <td>polyscimajor epa chief doesnt think carbon dio...</td>\n",
       "      <td>625221</td>\n",
       "      <td>[polyscimajor, epa, chief, doesnt, think, carb...</td>\n",
       "      <td>[polyscimajor, epa, chief, doesnt, think, carb...</td>\n",
       "      <td>[polyscimajor, epa, chief, doesnt, think, carb...</td>\n",
       "    </tr>\n",
       "    <tr>\n",
       "      <th>1</th>\n",
       "      <td>1</td>\n",
       "      <td>its not like we lack evidence of anthropogenic...</td>\n",
       "      <td>126103</td>\n",
       "      <td>[its, not, like, we, lack, evidence, of, anthr...</td>\n",
       "      <td>[it, not, like, we, lack, evid, of, anthropoge...</td>\n",
       "      <td>[it, not, like, we, lack, evidence, of, anthro...</td>\n",
       "    </tr>\n",
       "    <tr>\n",
       "      <th>2</th>\n",
       "      <td>2</td>\n",
       "      <td>researchers say we have three years to act o...</td>\n",
       "      <td>698562</td>\n",
       "      <td>[researchers, say, we, have, three, years, to,...</td>\n",
       "      <td>[research, say, we, have, three, year, to, act...</td>\n",
       "      <td>[researcher, say, we, have, three, year, to, a...</td>\n",
       "    </tr>\n",
       "    <tr>\n",
       "      <th>3</th>\n",
       "      <td>1</td>\n",
       "      <td>wired  2016 was a pivotal year in the war on ...</td>\n",
       "      <td>573736</td>\n",
       "      <td>[wired, 2016, was, a, pivotal, year, in, the, ...</td>\n",
       "      <td>[wire, 2016, was, a, pivot, year, in, the, war...</td>\n",
       "      <td>[wired, 2016, wa, a, pivotal, year, in, the, w...</td>\n",
       "    </tr>\n",
       "    <tr>\n",
       "      <th>4</th>\n",
       "      <td>1</td>\n",
       "      <td>its 2016 and a racist sexist climate change ...</td>\n",
       "      <td>466954</td>\n",
       "      <td>[its, 2016, and, a, racist, sexist, climate, c...</td>\n",
       "      <td>[it, 2016, and, a, racist, sexist, climat, cha...</td>\n",
       "      <td>[it, 2016, and, a, racist, sexist, climate, ch...</td>\n",
       "    </tr>\n",
       "  </tbody>\n",
       "</table>\n",
       "</div>"
      ],
      "text/plain": [
       "   sentiment                                            message  tweetid  \\\n",
       "0          1  polyscimajor epa chief doesnt think carbon dio...   625221   \n",
       "1          1  its not like we lack evidence of anthropogenic...   126103   \n",
       "2          2    researchers say we have three years to act o...   698562   \n",
       "3          1   wired  2016 was a pivotal year in the war on ...   573736   \n",
       "4          1    its 2016 and a racist sexist climate change ...   466954   \n",
       "\n",
       "                                         message_tok  \\\n",
       "0  [polyscimajor, epa, chief, doesnt, think, carb...   \n",
       "1  [its, not, like, we, lack, evidence, of, anthr...   \n",
       "2  [researchers, say, we, have, three, years, to,...   \n",
       "3  [wired, 2016, was, a, pivotal, year, in, the, ...   \n",
       "4  [its, 2016, and, a, racist, sexist, climate, c...   \n",
       "\n",
       "                                        message_stem  \\\n",
       "0  [polyscimajor, epa, chief, doesnt, think, carb...   \n",
       "1  [it, not, like, we, lack, evid, of, anthropoge...   \n",
       "2  [research, say, we, have, three, year, to, act...   \n",
       "3  [wire, 2016, was, a, pivot, year, in, the, war...   \n",
       "4  [it, 2016, and, a, racist, sexist, climat, cha...   \n",
       "\n",
       "                                         message_lam  \n",
       "0  [polyscimajor, epa, chief, doesnt, think, carb...  \n",
       "1  [it, not, like, we, lack, evidence, of, anthro...  \n",
       "2  [researcher, say, we, have, three, year, to, a...  \n",
       "3  [wired, 2016, wa, a, pivotal, year, in, the, w...  \n",
       "4  [it, 2016, and, a, racist, sexist, climate, ch...  "
      ]
     },
     "execution_count": 32,
     "metadata": {},
     "output_type": "execute_result"
    }
   ],
   "source": [
    "# Create a new column to hold root words from stemmer\n",
    "new_df_train = lam_words(new_df_train, 'message_tok')\n",
    "new_df_train.head()"
   ]
  },
  {
   "cell_type": "markdown",
   "id": "a4510e4f",
   "metadata": {},
   "source": [
    "### Remove stop words\n",
    "Stop words are words which do not contain important significance to be used in Search Queries. \n",
    "We write a function *remove_stop_word*, that removes stop words in a speified column."
   ]
  },
  {
   "cell_type": "code",
   "execution_count": 33,
   "id": "b3ebade9",
   "metadata": {},
   "outputs": [],
   "source": [
    "def remove_stop_words(data, col):\n",
    "    \"\"\"\n",
    "        Takes a dataframe and a column, creates a new dataframe with a new column no_stop_word from the input\n",
    "        dataframe and column, returns the new column\n",
    "    \"\"\"\n",
    "    def operation(toks):\n",
    "        new_toks = [tok for tok in toks if tok not in stopwords.words('english')]\n",
    "        return new_toks\n",
    "    \n",
    "    df = data.copy()\n",
    "    df['no_stop_word'] = df[col].apply(operation)\n",
    "\n",
    "    return df"
   ]
  },
  {
   "cell_type": "code",
   "execution_count": 34,
   "id": "ae5f6dfd",
   "metadata": {},
   "outputs": [
    {
     "data": {
      "text/html": [
       "<div>\n",
       "<style scoped>\n",
       "    .dataframe tbody tr th:only-of-type {\n",
       "        vertical-align: middle;\n",
       "    }\n",
       "\n",
       "    .dataframe tbody tr th {\n",
       "        vertical-align: top;\n",
       "    }\n",
       "\n",
       "    .dataframe thead th {\n",
       "        text-align: right;\n",
       "    }\n",
       "</style>\n",
       "<table border=\"1\" class=\"dataframe\">\n",
       "  <thead>\n",
       "    <tr style=\"text-align: right;\">\n",
       "      <th></th>\n",
       "      <th>sentiment</th>\n",
       "      <th>message</th>\n",
       "      <th>tweetid</th>\n",
       "      <th>message_tok</th>\n",
       "      <th>message_stem</th>\n",
       "      <th>message_lam</th>\n",
       "      <th>no_stop_word</th>\n",
       "    </tr>\n",
       "  </thead>\n",
       "  <tbody>\n",
       "    <tr>\n",
       "      <th>0</th>\n",
       "      <td>1</td>\n",
       "      <td>polyscimajor epa chief doesnt think carbon dio...</td>\n",
       "      <td>625221</td>\n",
       "      <td>[polyscimajor, epa, chief, doesnt, think, carb...</td>\n",
       "      <td>[polyscimajor, epa, chief, doesnt, think, carb...</td>\n",
       "      <td>[polyscimajor, epa, chief, doesnt, think, carb...</td>\n",
       "      <td>[polyscimajor, epa, chief, doesnt, think, carb...</td>\n",
       "    </tr>\n",
       "    <tr>\n",
       "      <th>1</th>\n",
       "      <td>1</td>\n",
       "      <td>its not like we lack evidence of anthropogenic...</td>\n",
       "      <td>126103</td>\n",
       "      <td>[its, not, like, we, lack, evidence, of, anthr...</td>\n",
       "      <td>[it, not, like, we, lack, evid, of, anthropoge...</td>\n",
       "      <td>[it, not, like, we, lack, evidence, of, anthro...</td>\n",
       "      <td>[like, lack, evidence, anthropogenic, global, ...</td>\n",
       "    </tr>\n",
       "    <tr>\n",
       "      <th>2</th>\n",
       "      <td>2</td>\n",
       "      <td>researchers say we have three years to act o...</td>\n",
       "      <td>698562</td>\n",
       "      <td>[researchers, say, we, have, three, years, to,...</td>\n",
       "      <td>[research, say, we, have, three, year, to, act...</td>\n",
       "      <td>[researcher, say, we, have, three, year, to, a...</td>\n",
       "      <td>[researcher, say, three, year, act, climate, c...</td>\n",
       "    </tr>\n",
       "    <tr>\n",
       "      <th>3</th>\n",
       "      <td>1</td>\n",
       "      <td>wired  2016 was a pivotal year in the war on ...</td>\n",
       "      <td>573736</td>\n",
       "      <td>[wired, 2016, was, a, pivotal, year, in, the, ...</td>\n",
       "      <td>[wire, 2016, was, a, pivot, year, in, the, war...</td>\n",
       "      <td>[wired, 2016, wa, a, pivotal, year, in, the, w...</td>\n",
       "      <td>[wired, 2016, wa, pivotal, year, war, climate,...</td>\n",
       "    </tr>\n",
       "    <tr>\n",
       "      <th>4</th>\n",
       "      <td>1</td>\n",
       "      <td>its 2016 and a racist sexist climate change ...</td>\n",
       "      <td>466954</td>\n",
       "      <td>[its, 2016, and, a, racist, sexist, climate, c...</td>\n",
       "      <td>[it, 2016, and, a, racist, sexist, climat, cha...</td>\n",
       "      <td>[it, 2016, and, a, racist, sexist, climate, ch...</td>\n",
       "      <td>[2016, racist, sexist, climate, change, denyin...</td>\n",
       "    </tr>\n",
       "  </tbody>\n",
       "</table>\n",
       "</div>"
      ],
      "text/plain": [
       "   sentiment                                            message  tweetid  \\\n",
       "0          1  polyscimajor epa chief doesnt think carbon dio...   625221   \n",
       "1          1  its not like we lack evidence of anthropogenic...   126103   \n",
       "2          2    researchers say we have three years to act o...   698562   \n",
       "3          1   wired  2016 was a pivotal year in the war on ...   573736   \n",
       "4          1    its 2016 and a racist sexist climate change ...   466954   \n",
       "\n",
       "                                         message_tok  \\\n",
       "0  [polyscimajor, epa, chief, doesnt, think, carb...   \n",
       "1  [its, not, like, we, lack, evidence, of, anthr...   \n",
       "2  [researchers, say, we, have, three, years, to,...   \n",
       "3  [wired, 2016, was, a, pivotal, year, in, the, ...   \n",
       "4  [its, 2016, and, a, racist, sexist, climate, c...   \n",
       "\n",
       "                                        message_stem  \\\n",
       "0  [polyscimajor, epa, chief, doesnt, think, carb...   \n",
       "1  [it, not, like, we, lack, evid, of, anthropoge...   \n",
       "2  [research, say, we, have, three, year, to, act...   \n",
       "3  [wire, 2016, was, a, pivot, year, in, the, war...   \n",
       "4  [it, 2016, and, a, racist, sexist, climat, cha...   \n",
       "\n",
       "                                         message_lam  \\\n",
       "0  [polyscimajor, epa, chief, doesnt, think, carb...   \n",
       "1  [it, not, like, we, lack, evidence, of, anthro...   \n",
       "2  [researcher, say, we, have, three, year, to, a...   \n",
       "3  [wired, 2016, wa, a, pivotal, year, in, the, w...   \n",
       "4  [it, 2016, and, a, racist, sexist, climate, ch...   \n",
       "\n",
       "                                        no_stop_word  \n",
       "0  [polyscimajor, epa, chief, doesnt, think, carb...  \n",
       "1  [like, lack, evidence, anthropogenic, global, ...  \n",
       "2  [researcher, say, three, year, act, climate, c...  \n",
       "3  [wired, 2016, wa, pivotal, year, war, climate,...  \n",
       "4  [2016, racist, sexist, climate, change, denyin...  "
      ]
     },
     "execution_count": 34,
     "metadata": {},
     "output_type": "execute_result"
    }
   ],
   "source": [
    "# Create a new column from message_lam void of stop words\n",
    "new_df_train = remove_stop_words(new_df_train, 'message_lam')\n",
    "new_df_train.head()"
   ]
  },
  {
   "cell_type": "markdown",
   "id": "b0135cec",
   "metadata": {},
   "source": [
    "### Check for the presence of noise as non-alphanumeric worlds"
   ]
  },
  {
   "cell_type": "code",
   "execution_count": 35,
   "id": "45206759",
   "metadata": {},
   "outputs": [],
   "source": [
    "def word_type_checker(data, col):\n",
    "    alphanum_count = 0 \n",
    "    non_alphanum_count = 0\n",
    "    \n",
    "    def operation(str_list , alphanum_count ,non_alphanum_count):\n",
    "        alphanum = alphanum_count\n",
    "        non_aphanum = non_alphanum_count\n",
    "#         print(f'past row values: {(alphanum, non_aphanum)}') # for testing \n",
    "        for strg in str_list:\n",
    "            if strg.isalnum():\n",
    "                alphanum = alphanum + 1\n",
    "            else:\n",
    "                non_aphanum = non_aphanum + 1\n",
    "        \n",
    "        return (alphanum ,non_aphanum)\n",
    "    \n",
    "    for label, sr in data.iterrows():\n",
    "        (alphanum_count, non_alphanum_count) = operation(sr[col] , alphanum_count, non_alphanum_count)\n",
    "#         Uncomment the codes below for testing of this function\n",
    "#         print(f'accumulated values: {(alphanum_count, non_alphanum_count)}') \n",
    "#         if label == 20:\n",
    "#             break\n",
    "    \n",
    "    return (alphanum_count, non_alphanum_count)\n",
    "            \n",
    "    "
   ]
  },
  {
   "cell_type": "code",
   "execution_count": 36,
   "id": "ae9a9723",
   "metadata": {},
   "outputs": [
    {
     "data": {
      "text/plain": [
       "(154708, 9687)"
      ]
     },
     "execution_count": 36,
     "metadata": {},
     "output_type": "execute_result"
    }
   ],
   "source": [
    "(alphanumeric, non_alphanumeric) = word_type_checker(new_df_train, 'no_stop_word')\n",
    "(alphanumeric, non_alphanumeric)"
   ]
  },
  {
   "cell_type": "markdown",
   "id": "f78213bc",
   "metadata": {},
   "source": [
    "### Convert processed words to corpus\n",
    "\n",
    "Before we can transform the words in numeric type, for each column we have to remove the delimeters introduced during tokennization. This process is needed to enable us form a **corpus**.\n",
    "To achieve this, we write a function **form_corpus**."
   ]
  },
  {
   "cell_type": "code",
   "execution_count": 37,
   "id": "42c773f2",
   "metadata": {},
   "outputs": [],
   "source": [
    "def form_corpus(data, col):\n",
    "    \"\"\"\n",
    "        This function takes in a dataframe and a column with tokenized text, \n",
    "        returns a new dataframe with an additional column(de_tok), which is made up of all words in the inserted colunm\n",
    "        but void of delimeters.\n",
    "    \"\"\"\n",
    "    def operation(tok_list):\n",
    "        string = ' '.join(tok_list)\n",
    "        return string\n",
    "    df = data.copy()\n",
    "    df['de_tok'] = df[col].apply(operation)\n",
    "    \n",
    "    return df"
   ]
  },
  {
   "cell_type": "code",
   "execution_count": 38,
   "id": "38167fec",
   "metadata": {},
   "outputs": [
    {
     "data": {
      "text/html": [
       "<div>\n",
       "<style scoped>\n",
       "    .dataframe tbody tr th:only-of-type {\n",
       "        vertical-align: middle;\n",
       "    }\n",
       "\n",
       "    .dataframe tbody tr th {\n",
       "        vertical-align: top;\n",
       "    }\n",
       "\n",
       "    .dataframe thead th {\n",
       "        text-align: right;\n",
       "    }\n",
       "</style>\n",
       "<table border=\"1\" class=\"dataframe\">\n",
       "  <thead>\n",
       "    <tr style=\"text-align: right;\">\n",
       "      <th></th>\n",
       "      <th>sentiment</th>\n",
       "      <th>message</th>\n",
       "      <th>tweetid</th>\n",
       "      <th>message_tok</th>\n",
       "      <th>message_stem</th>\n",
       "      <th>message_lam</th>\n",
       "      <th>no_stop_word</th>\n",
       "      <th>de_tok</th>\n",
       "    </tr>\n",
       "  </thead>\n",
       "  <tbody>\n",
       "    <tr>\n",
       "      <th>0</th>\n",
       "      <td>1</td>\n",
       "      <td>polyscimajor epa chief doesnt think carbon dio...</td>\n",
       "      <td>625221</td>\n",
       "      <td>[polyscimajor, epa, chief, doesnt, think, carb...</td>\n",
       "      <td>[polyscimajor, epa, chief, doesnt, think, carb...</td>\n",
       "      <td>[polyscimajor, epa, chief, doesnt, think, carb...</td>\n",
       "      <td>[polyscimajor, epa, chief, doesnt, think, carb...</td>\n",
       "      <td>polyscimajor epa chief doesnt think carbon dio...</td>\n",
       "    </tr>\n",
       "    <tr>\n",
       "      <th>1</th>\n",
       "      <td>1</td>\n",
       "      <td>its not like we lack evidence of anthropogenic...</td>\n",
       "      <td>126103</td>\n",
       "      <td>[its, not, like, we, lack, evidence, of, anthr...</td>\n",
       "      <td>[it, not, like, we, lack, evid, of, anthropoge...</td>\n",
       "      <td>[it, not, like, we, lack, evidence, of, anthro...</td>\n",
       "      <td>[like, lack, evidence, anthropogenic, global, ...</td>\n",
       "      <td>like lack evidence anthropogenic global warming</td>\n",
       "    </tr>\n",
       "    <tr>\n",
       "      <th>2</th>\n",
       "      <td>2</td>\n",
       "      <td>researchers say we have three years to act o...</td>\n",
       "      <td>698562</td>\n",
       "      <td>[researchers, say, we, have, three, years, to,...</td>\n",
       "      <td>[research, say, we, have, three, year, to, act...</td>\n",
       "      <td>[researcher, say, we, have, three, year, to, a...</td>\n",
       "      <td>[researcher, say, three, year, act, climate, c...</td>\n",
       "      <td>researcher say three year act climate change i...</td>\n",
       "    </tr>\n",
       "    <tr>\n",
       "      <th>3</th>\n",
       "      <td>1</td>\n",
       "      <td>wired  2016 was a pivotal year in the war on ...</td>\n",
       "      <td>573736</td>\n",
       "      <td>[wired, 2016, was, a, pivotal, year, in, the, ...</td>\n",
       "      <td>[wire, 2016, was, a, pivot, year, in, the, war...</td>\n",
       "      <td>[wired, 2016, wa, a, pivotal, year, in, the, w...</td>\n",
       "      <td>[wired, 2016, wa, pivotal, year, war, climate,...</td>\n",
       "      <td>wired 2016 wa pivotal year war climate change</td>\n",
       "    </tr>\n",
       "    <tr>\n",
       "      <th>4</th>\n",
       "      <td>1</td>\n",
       "      <td>its 2016 and a racist sexist climate change ...</td>\n",
       "      <td>466954</td>\n",
       "      <td>[its, 2016, and, a, racist, sexist, climate, c...</td>\n",
       "      <td>[it, 2016, and, a, racist, sexist, climat, cha...</td>\n",
       "      <td>[it, 2016, and, a, racist, sexist, climate, ch...</td>\n",
       "      <td>[2016, racist, sexist, climate, change, denyin...</td>\n",
       "      <td>2016 racist sexist climate change denying bigo...</td>\n",
       "    </tr>\n",
       "  </tbody>\n",
       "</table>\n",
       "</div>"
      ],
      "text/plain": [
       "   sentiment                                            message  tweetid  \\\n",
       "0          1  polyscimajor epa chief doesnt think carbon dio...   625221   \n",
       "1          1  its not like we lack evidence of anthropogenic...   126103   \n",
       "2          2    researchers say we have three years to act o...   698562   \n",
       "3          1   wired  2016 was a pivotal year in the war on ...   573736   \n",
       "4          1    its 2016 and a racist sexist climate change ...   466954   \n",
       "\n",
       "                                         message_tok  \\\n",
       "0  [polyscimajor, epa, chief, doesnt, think, carb...   \n",
       "1  [its, not, like, we, lack, evidence, of, anthr...   \n",
       "2  [researchers, say, we, have, three, years, to,...   \n",
       "3  [wired, 2016, was, a, pivotal, year, in, the, ...   \n",
       "4  [its, 2016, and, a, racist, sexist, climate, c...   \n",
       "\n",
       "                                        message_stem  \\\n",
       "0  [polyscimajor, epa, chief, doesnt, think, carb...   \n",
       "1  [it, not, like, we, lack, evid, of, anthropoge...   \n",
       "2  [research, say, we, have, three, year, to, act...   \n",
       "3  [wire, 2016, was, a, pivot, year, in, the, war...   \n",
       "4  [it, 2016, and, a, racist, sexist, climat, cha...   \n",
       "\n",
       "                                         message_lam  \\\n",
       "0  [polyscimajor, epa, chief, doesnt, think, carb...   \n",
       "1  [it, not, like, we, lack, evidence, of, anthro...   \n",
       "2  [researcher, say, we, have, three, year, to, a...   \n",
       "3  [wired, 2016, wa, a, pivotal, year, in, the, w...   \n",
       "4  [it, 2016, and, a, racist, sexist, climate, ch...   \n",
       "\n",
       "                                        no_stop_word  \\\n",
       "0  [polyscimajor, epa, chief, doesnt, think, carb...   \n",
       "1  [like, lack, evidence, anthropogenic, global, ...   \n",
       "2  [researcher, say, three, year, act, climate, c...   \n",
       "3  [wired, 2016, wa, pivotal, year, war, climate,...   \n",
       "4  [2016, racist, sexist, climate, change, denyin...   \n",
       "\n",
       "                                              de_tok  \n",
       "0  polyscimajor epa chief doesnt think carbon dio...  \n",
       "1    like lack evidence anthropogenic global warming  \n",
       "2  researcher say three year act climate change i...  \n",
       "3      wired 2016 wa pivotal year war climate change  \n",
       "4  2016 racist sexist climate change denying bigo...  "
      ]
     },
     "execution_count": 38,
     "metadata": {},
     "output_type": "execute_result"
    }
   ],
   "source": [
    "# Create a new column from no_stop_word void of delimeters\n",
    "new_df_train = form_corpus(new_df_train, 'no_stop_word')\n",
    "new_df_train.head()"
   ]
  },
  {
   "cell_type": "code",
   "execution_count": 39,
   "id": "12b92c59",
   "metadata": {},
   "outputs": [
    {
     "data": {
      "text/html": [
       "<div>\n",
       "<style scoped>\n",
       "    .dataframe tbody tr th:only-of-type {\n",
       "        vertical-align: middle;\n",
       "    }\n",
       "\n",
       "    .dataframe tbody tr th {\n",
       "        vertical-align: top;\n",
       "    }\n",
       "\n",
       "    .dataframe thead th {\n",
       "        text-align: right;\n",
       "    }\n",
       "</style>\n",
       "<table border=\"1\" class=\"dataframe\">\n",
       "  <thead>\n",
       "    <tr style=\"text-align: right;\">\n",
       "      <th></th>\n",
       "      <th>sentiment</th>\n",
       "      <th>de_tok</th>\n",
       "    </tr>\n",
       "  </thead>\n",
       "  <tbody>\n",
       "    <tr>\n",
       "      <th>0</th>\n",
       "      <td>1</td>\n",
       "      <td>polyscimajor epa chief doesnt think carbon dio...</td>\n",
       "    </tr>\n",
       "    <tr>\n",
       "      <th>1</th>\n",
       "      <td>1</td>\n",
       "      <td>like lack evidence anthropogenic global warming</td>\n",
       "    </tr>\n",
       "    <tr>\n",
       "      <th>2</th>\n",
       "      <td>2</td>\n",
       "      <td>researcher say three year act climate change i...</td>\n",
       "    </tr>\n",
       "    <tr>\n",
       "      <th>3</th>\n",
       "      <td>1</td>\n",
       "      <td>wired 2016 wa pivotal year war climate change</td>\n",
       "    </tr>\n",
       "    <tr>\n",
       "      <th>4</th>\n",
       "      <td>1</td>\n",
       "      <td>2016 racist sexist climate change denying bigo...</td>\n",
       "    </tr>\n",
       "  </tbody>\n",
       "</table>\n",
       "</div>"
      ],
      "text/plain": [
       "   sentiment                                             de_tok\n",
       "0          1  polyscimajor epa chief doesnt think carbon dio...\n",
       "1          1    like lack evidence anthropogenic global warming\n",
       "2          2  researcher say three year act climate change i...\n",
       "3          1      wired 2016 wa pivotal year war climate change\n",
       "4          1  2016 racist sexist climate change denying bigo..."
      ]
     },
     "execution_count": 39,
     "metadata": {},
     "output_type": "execute_result"
    }
   ],
   "source": [
    "# Drop every other columns except sentiment and de_tok columns\n",
    "df_train_reduced = new_df_train[['sentiment', 'de_tok']]\n",
    "df_train_reduced.head()"
   ]
  },
  {
   "cell_type": "markdown",
   "id": "cbfbc020",
   "metadata": {},
   "source": [
    "### Resampling\n",
    "- **Downsampling the majority class**\n",
    "- **Upsampling the minority class**"
   ]
  },
  {
   "cell_type": "markdown",
   "id": "6554a327",
   "metadata": {},
   "source": [
    "To achieve the above, we write a multipurpose function called **resampler**, which we can use for both **Downsampling** and **Upsampling**"
   ]
  },
  {
   "cell_type": "code",
   "execution_count": 40,
   "id": "d670945b",
   "metadata": {},
   "outputs": [],
   "source": [
    "def resampler(df_list, n_sample, replace=False):\n",
    "    \"\"\"\n",
    "        This function takes a list of dataframe, the size which we intend to resize all dataframes in the list to, and\n",
    "        an optional replace[bool] value, which is set to True for upsampling\n",
    "        It returns a tuple of new dataframes with sizes equivalent to the value for n_sample\n",
    "    \"\"\"\n",
    "    \n",
    "    def operation(df):\n",
    "        downsampled_df = resample(df,\n",
    "                          replace= replace, # sample without replacement (no need to duplicate observations)\n",
    "                          n_samples=n_sample, # match number in minority class\n",
    "                          random_state= RANDOM_STATE) # reproducible results\n",
    "        return downsampled_df\n",
    "    \n",
    "    resampled_dfs = tuple(map(operation , df_list))\n",
    "    \n",
    "    return resampled_dfs"
   ]
  },
  {
   "cell_type": "markdown",
   "id": "efb6127d",
   "metadata": {},
   "source": [
    "#### Create new dataframes\n",
    "    We create new dataframes basedd on sentiment type."
   ]
  },
  {
   "cell_type": "code",
   "execution_count": 41,
   "id": "55cc617b",
   "metadata": {},
   "outputs": [],
   "source": [
    "pro = df_train_reduced[df_train_reduced['sentiment'] == 1]\n",
    "anti = df_train_reduced[df_train_reduced['sentiment'] == -1]\n",
    "neutral = df_train_reduced[df_train_reduced['sentiment'] == 0]\n",
    "info =  df_train_reduced[df_train_reduced['sentiment'] == 2]"
   ]
  },
  {
   "cell_type": "markdown",
   "id": "c8489646",
   "metadata": {},
   "source": [
    "### Downsampling\n",
    "    \n",
    "    "
   ]
  },
  {
   "cell_type": "code",
   "execution_count": 42,
   "id": "20b09c72",
   "metadata": {},
   "outputs": [
    {
     "data": {
      "text/plain": [
       " 1    1296\n",
       " 2    1296\n",
       " 0    1296\n",
       "-1    1296\n",
       "Name: sentiment, dtype: int64"
      ]
     },
     "execution_count": 42,
     "metadata": {},
     "output_type": "execute_result"
    }
   ],
   "source": [
    "# Downsample pro, infor and neutral dataframe \n",
    "(pro_df, info_df, neut_df) = resampler([pro,info,neutral], len(anti))\n",
    "\n",
    "# Combine downsampled majority class with minority class\n",
    "downsampled = pd.concat([pro_df, info_df, neut_df,anti])\n",
    "\n",
    "# Check new class counts\n",
    "downsampled['sentiment'].value_counts()"
   ]
  },
  {
   "cell_type": "code",
   "execution_count": 43,
   "id": "fe38e63e",
   "metadata": {},
   "outputs": [
    {
     "data": {
      "image/png": "[encoded data removed]",
      "text/plain": [
       "<Figure size 432x288 with 1 Axes>"
      ]
     },
     "metadata": {
      "needs_background": "light"
     },
     "output_type": "display_data"
    }
   ],
   "source": [
    "# visualise the downsampled dataframe\n",
    "original_height = [len(pro), len(neutral), len(info), len(anti)]\n",
    "downsampled_heights = [len(downsampled[downsampled['sentiment']==1]),len(downsampled[downsampled['sentiment']==0]),\n",
    "                      len(downsampled[downsampled['sentiment']==2]) ,len(downsampled[downsampled['sentiment']==-1])]\n",
    "\n",
    "# Get all possible labels\n",
    "labels = downsampled['sentiment'].unique()\n",
    "plt.bar(labels,original_height,color='grey')\n",
    "plt.bar(labels,downsampled_heights,color='orange')\n",
    "plt.xticks(labels,[1,0, 2, -1])\n",
    "plt.ylabel(\"# of observations\")\n",
    "plt.xlabel(\"Sentiments\")\n",
    "plt.legend(['original','resampled'])\n",
    "plt.show()"
   ]
  },
  {
   "cell_type": "markdown",
   "id": "17527320",
   "metadata": {},
   "source": [
    "### Upsampling"
   ]
  },
  {
   "cell_type": "code",
   "execution_count": 44,
   "id": "ef8aeef6",
   "metadata": {},
   "outputs": [
    {
     "data": {
      "text/plain": [
       " 1    8530\n",
       " 2    8530\n",
       " 0    8530\n",
       "-1    8530\n",
       "Name: sentiment, dtype: int64"
      ]
     },
     "execution_count": 44,
     "metadata": {},
     "output_type": "execute_result"
    }
   ],
   "source": [
    "# upsample info, neutral and anti dataframe \n",
    "(up_info_df, up_neut_df, up_anti_df) = resampler([info,neutral, anti], len(pro), True)\n",
    "\n",
    "# Combine downsampled majority class with minority class\n",
    "upsampled = pd.concat([pro, up_info_df, up_neut_df,up_anti_df])\n",
    "\n",
    "# Check new class counts\n",
    "upsampled['sentiment'].value_counts()"
   ]
  },
  {
   "cell_type": "code",
   "execution_count": 45,
   "id": "f687594b",
   "metadata": {},
   "outputs": [
    {
     "data": {
      "image/png": "[encoded data removed]",
      "text/plain": [
       "<Figure size 432x288 with 1 Axes>"
      ]
     },
     "metadata": {
      "needs_background": "light"
     },
     "output_type": "display_data"
    }
   ],
   "source": [
    "# visualise the upnsampled dataframe\n",
    "original_height = [len(pro), len(neutral), len(info), len(anti)]\n",
    "upsampled_heights = [len(upsampled[upsampled['sentiment']==1]),len(upsampled[upsampled['sentiment']==0]),\n",
    "                      len(upsampled[upsampled['sentiment']==2]) ,len(upsampled[upsampled['sentiment']==-1])]\n",
    "\n",
    "# Get all possible labels\n",
    "labels = upsampled['sentiment'].unique()\n",
    "plt.bar(labels,upsampled_heights,color='orange')\n",
    "plt.bar(labels,original_height,color='grey')\n",
    "plt.xticks(labels,[1,0, 2, -1])\n",
    "plt.ylabel(\"# of observations\")\n",
    "plt.xlabel(\"Sentiments\")\n",
    "plt.legend(['resampled','original'])\n",
    "plt.show()"
   ]
  },
  {
   "cell_type": "markdown",
   "id": "c900d343",
   "metadata": {},
   "source": [
    "### Data container\n",
    "\n",
    "From the above two operations, we now have three different data set :\n",
    "- **df_train_reduced** (original data set)\n",
    "- **downsampled** (down sampled data set)\n",
    "- **upsampled** (up sampled data set)\n",
    "\n",
    "We then proceed to store these three different data set in a data container named **DataSetSelector**, which enables us select a particular type of data set at a particular time using their respective index numbers (0,1,2), and storing same in a variable called **data_set**"
   ]
  },
  {
   "cell_type": "code",
   "execution_count": 46,
   "id": "25d1896c",
   "metadata": {},
   "outputs": [],
   "source": [
    "# Define DataSetSelector, store the data sets, and define data_set, which contains the selected data set\n",
    "DataSetSelector = [df_train_reduced, downsampled, upsampled]\n",
    "\n",
    "data_set = DataSetSelector[2]"
   ]
  },
  {
   "cell_type": "markdown",
   "id": "f0c0efc0",
   "metadata": {},
   "source": [
    "### Transforming text into numbers\n",
    "\n",
    "- CounterVectorizer\n",
    "- TfidfVectorizer\n",
    "\n",
    "Most models do not work well with text, hence the need to convert our text into numbers. To execute this task and more, we can use **CountVectorizer** or **TfidfVectorizer** packages from sklearn library.\n",
    "\n"
   ]
  },
  {
   "cell_type": "markdown",
   "id": "81bbb771",
   "metadata": {},
   "source": [
    "#### CountVectorizer\n",
    "**CountVectorizer** has some **hyperparameters** which we can asign desired values to while initialising. \n",
    "The **hyperparameters** that we shall be tunning for these work are: \n",
    "\n",
    "- **max_df** :  When building the vocabulary ignore terms that have a document frequency strictly higher than the                     given threshold (corpus-specific stop words). If float, the parameter represents a proportion of                       documents,integer absolute counts.This parameter is ignored if vocabulary is not None.\n",
    "\n",
    "- **min_df** :  When building the vocabulary ignore terms that have a document frequency strictly lower than the given                 threshold. This value is also called cut-off in the literature. If float, the parameter represents a                   proportion of documents, integer absolute counts.This parameter is ignored if vocabulary is not None.\n",
    "\n",
    "- **max_features**: If not None, build a vocabulary that only consider the top max_features ordered by term frequency                     across the corpus. This parameter is ignored if vocabulary is not None.\n",
    "\n",
    "- **analyzer**: Whether the feature should be made of word n-gram or character n-grams. Option ‘char_wb’ creates                       character n-grams only from text inside word boundaries; n-grams at the edges of words are padded with                 space.\n",
    "\n",
    "- **ngram_range**: The lower and upper boundary of the range of n-values for different word n-grams or char n-grams to                    be extracted."
   ]
  },
  {
   "cell_type": "code",
   "execution_count": 47,
   "id": "92c4c57e",
   "metadata": {},
   "outputs": [],
   "source": [
    "# Initialize an object of CountVectorizer\n",
    "count_vector = CountVectorizer(max_features=20000,analyzer='word', ngram_range=(1, 2))"
   ]
  },
  {
   "cell_type": "markdown",
   "id": "816157bf",
   "metadata": {},
   "source": [
    "#### TfidfVectorizer\n",
    "**TfidfVectorizer** has some **hyperparameters** which we can asign desired values to while initialising. \n",
    "The **hyperparameters** that we shall be tunning for these work are: \n",
    "\n",
    "- **max_df** :  When building the vocabulary ignore terms that have a document frequency strictly higher than the                     given threshold (corpus-specific stop words). If float, the parameter represents a proportion of                       documents,integer absolute counts.This parameter is ignored if vocabulary is not None.\n",
    "\n",
    "- **min_df** :  When building the vocabulary ignore terms that have a document frequency strictly lower than the given                 threshold. This value is also called cut-off in the literature. If float, the parameter represents a                   proportion of documents, integer absolute counts.This parameter is ignored if vocabulary is not None.\n",
    "\n",
    "- **max_features**: If not None, build a vocabulary that only consider the top max_features ordered by term frequency                     across the corpus. This parameter is ignored if vocabulary is not None.\n",
    "\n",
    "- **analyzer**: Whether the feature should be made of word n-gram or character n-grams. Option ‘char_wb’ creates                       character n-grams only from text inside word boundaries; n-grams at the edges of words are padded with                 space.\n",
    "\n",
    "- **ngram_range**: The lower and upper boundary of the range of n-values for different word n-grams or char n-grams to                    be extracted."
   ]
  },
  {
   "cell_type": "code",
   "execution_count": 48,
   "id": "91a506db",
   "metadata": {},
   "outputs": [],
   "source": [
    "# DO NOT RUN THIS VECTORIZER USING THE DEFAULT max_features hyperparameter setting\n",
    "# Initialize an object of TfidfVectorizer\n",
    "tfidf_vector = TfidfVectorizer( analyzer='word', ngram_range=(1, 2))"
   ]
  },
  {
   "cell_type": "markdown",
   "id": "d4142a99",
   "metadata": {},
   "source": [
    "### Vectorizer Countainer\n",
    "\n",
    "We proceed to store the two vectorizers (CountVectorizer and TFidfVecorizer ) in a container( python list) named **VectorizerSelector**, which enables us to use index number (0,1), to select any vectorizer of choice "
   ]
  },
  {
   "cell_type": "code",
   "execution_count": 49,
   "id": "c55ea19e",
   "metadata": {},
   "outputs": [],
   "source": [
    "# Define VectorizerSeelector, a list of defined vectorizer, and selects the desired vectorizer with index number,\n",
    "# store the selected vectorizer in a variable named vector.\n",
    "\n",
    "VectorizerSelector = [count_vector , tfidf_vector]\n",
    "\n",
    "vector = VectorizerSelector[0]"
   ]
  },
  {
   "cell_type": "markdown",
   "id": "fcaa2012",
   "metadata": {},
   "source": [
    "### Data Transformation \n",
    "\n",
    "We proceed to transform the features of the data set (**data_set**), with our choosen vectorizer **vector**, and store the transformed \n",
    "data in a variable called X_count"
   ]
  },
  {
   "cell_type": "code",
   "execution_count": 50,
   "id": "584fc9d6",
   "metadata": {},
   "outputs": [
    {
     "data": {
      "text/plain": [
       "(34120, 20000)"
      ]
     },
     "execution_count": 50,
     "metadata": {},
     "output_type": "execute_result"
    }
   ],
   "source": [
    "# Fit and Transform the de_tok column fit_transform method\n",
    "X_count = vector.fit_transform(data_set['de_tok'].values.astype(str))\n",
    "X_count.shape"
   ]
  },
  {
   "cell_type": "markdown",
   "id": "4951dbbe",
   "metadata": {},
   "source": [
    "#### Extract dependant for data set"
   ]
  },
  {
   "cell_type": "code",
   "execution_count": 51,
   "id": "ec762ac4",
   "metadata": {},
   "outputs": [
    {
     "data": {
      "text/plain": [
       "0     1\n",
       "1     1\n",
       "3     1\n",
       "4     1\n",
       "5     1\n",
       "6     1\n",
       "7     1\n",
       "8     1\n",
       "9     1\n",
       "10    1\n",
       "Name: sentiment, dtype: int64"
      ]
     },
     "execution_count": 51,
     "metadata": {},
     "output_type": "execute_result"
    }
   ],
   "source": [
    "# Collect the dependant variable into a variable\n",
    "y = data_set['sentiment']\n",
    "y[:10]"
   ]
  },
  {
   "cell_type": "code",
   "execution_count": 52,
   "id": "ade51fac",
   "metadata": {},
   "outputs": [],
   "source": [
    "# See feature names\n",
    "# vect_df.get_feature_names()"
   ]
  },
  {
   "cell_type": "code",
   "execution_count": 53,
   "id": "f84351e3",
   "metadata": {},
   "outputs": [
    {
     "data": {
      "text/plain": [
       "array([[0, 0, 0, ..., 0, 0, 0],\n",
       "       [0, 0, 0, ..., 0, 0, 0],\n",
       "       [0, 0, 0, ..., 0, 0, 0],\n",
       "       ...,\n",
       "       [0, 0, 0, ..., 0, 0, 0],\n",
       "       [0, 0, 0, ..., 0, 0, 0],\n",
       "       [0, 0, 0, ..., 0, 0, 0]])"
      ]
     },
     "execution_count": 53,
     "metadata": {},
     "output_type": "execute_result"
    }
   ],
   "source": [
    "X_count.toarray()"
   ]
  },
  {
   "cell_type": "markdown",
   "id": "a52905e3",
   "metadata": {},
   "source": [
    "### Convert vectorised data set back to dataframe form"
   ]
  },
  {
   "cell_type": "code",
   "execution_count": 54,
   "id": "fe66104c",
   "metadata": {},
   "outputs": [
    {
     "data": {
      "text/html": [
       "<div>\n",
       "<style scoped>\n",
       "    .dataframe tbody tr th:only-of-type {\n",
       "        vertical-align: middle;\n",
       "    }\n",
       "\n",
       "    .dataframe tbody tr th {\n",
       "        vertical-align: top;\n",
       "    }\n",
       "\n",
       "    .dataframe thead th {\n",
       "        text-align: right;\n",
       "    }\n",
       "</style>\n",
       "<table border=\"1\" class=\"dataframe\">\n",
       "  <thead>\n",
       "    <tr style=\"text-align: right;\">\n",
       "      <th></th>\n",
       "      <th>004</th>\n",
       "      <th>004 change</th>\n",
       "      <th>020</th>\n",
       "      <th>020 38</th>\n",
       "      <th>02after</th>\n",
       "      <th>02after trump</th>\n",
       "      <th>0bamas</th>\n",
       "      <th>0bamas tie</th>\n",
       "      <th>0c</th>\n",
       "      <th>0c swings</th>\n",
       "      <th>...</th>\n",
       "      <th>スタリん時代のソ連や毛沢東の文化大革命並のサイエンスに政治的介入だ どうなる米国</th>\n",
       "      <th>報告書は</th>\n",
       "      <th>報告書は 欧州が最も大きく地球温暖化の影響を受けていると警告しています</th>\n",
       "      <th>欧州が最も大きく地球温暖化の影響を受けていると警告しています</th>\n",
       "      <th>気候変動との表現を削除しないと予算を貰えない</th>\n",
       "      <th>気候変動との表現を削除しないと予算を貰えない と通知した</th>\n",
       "      <th>申請書のアブストラクトに</th>\n",
       "      <th>申請書のアブストラクトに climate</th>\n",
       "      <th>米国政府はある研究者に連絡して</th>\n",
       "      <th>米国政府はある研究者に連絡して 申請書のアブストラクトに</th>\n",
       "    </tr>\n",
       "  </thead>\n",
       "  <tbody>\n",
       "    <tr>\n",
       "      <th>0</th>\n",
       "      <td>0</td>\n",
       "      <td>0</td>\n",
       "      <td>0</td>\n",
       "      <td>0</td>\n",
       "      <td>0</td>\n",
       "      <td>0</td>\n",
       "      <td>0</td>\n",
       "      <td>0</td>\n",
       "      <td>0</td>\n",
       "      <td>0</td>\n",
       "      <td>...</td>\n",
       "      <td>0</td>\n",
       "      <td>0</td>\n",
       "      <td>0</td>\n",
       "      <td>0</td>\n",
       "      <td>0</td>\n",
       "      <td>0</td>\n",
       "      <td>0</td>\n",
       "      <td>0</td>\n",
       "      <td>0</td>\n",
       "      <td>0</td>\n",
       "    </tr>\n",
       "    <tr>\n",
       "      <th>1</th>\n",
       "      <td>0</td>\n",
       "      <td>0</td>\n",
       "      <td>0</td>\n",
       "      <td>0</td>\n",
       "      <td>0</td>\n",
       "      <td>0</td>\n",
       "      <td>0</td>\n",
       "      <td>0</td>\n",
       "      <td>0</td>\n",
       "      <td>0</td>\n",
       "      <td>...</td>\n",
       "      <td>0</td>\n",
       "      <td>0</td>\n",
       "      <td>0</td>\n",
       "      <td>0</td>\n",
       "      <td>0</td>\n",
       "      <td>0</td>\n",
       "      <td>0</td>\n",
       "      <td>0</td>\n",
       "      <td>0</td>\n",
       "      <td>0</td>\n",
       "    </tr>\n",
       "    <tr>\n",
       "      <th>2</th>\n",
       "      <td>0</td>\n",
       "      <td>0</td>\n",
       "      <td>0</td>\n",
       "      <td>0</td>\n",
       "      <td>0</td>\n",
       "      <td>0</td>\n",
       "      <td>0</td>\n",
       "      <td>0</td>\n",
       "      <td>0</td>\n",
       "      <td>0</td>\n",
       "      <td>...</td>\n",
       "      <td>0</td>\n",
       "      <td>0</td>\n",
       "      <td>0</td>\n",
       "      <td>0</td>\n",
       "      <td>0</td>\n",
       "      <td>0</td>\n",
       "      <td>0</td>\n",
       "      <td>0</td>\n",
       "      <td>0</td>\n",
       "      <td>0</td>\n",
       "    </tr>\n",
       "    <tr>\n",
       "      <th>3</th>\n",
       "      <td>0</td>\n",
       "      <td>0</td>\n",
       "      <td>0</td>\n",
       "      <td>0</td>\n",
       "      <td>0</td>\n",
       "      <td>0</td>\n",
       "      <td>0</td>\n",
       "      <td>0</td>\n",
       "      <td>0</td>\n",
       "      <td>0</td>\n",
       "      <td>...</td>\n",
       "      <td>0</td>\n",
       "      <td>0</td>\n",
       "      <td>0</td>\n",
       "      <td>0</td>\n",
       "      <td>0</td>\n",
       "      <td>0</td>\n",
       "      <td>0</td>\n",
       "      <td>0</td>\n",
       "      <td>0</td>\n",
       "      <td>0</td>\n",
       "    </tr>\n",
       "    <tr>\n",
       "      <th>4</th>\n",
       "      <td>0</td>\n",
       "      <td>0</td>\n",
       "      <td>0</td>\n",
       "      <td>0</td>\n",
       "      <td>0</td>\n",
       "      <td>0</td>\n",
       "      <td>0</td>\n",
       "      <td>0</td>\n",
       "      <td>0</td>\n",
       "      <td>0</td>\n",
       "      <td>...</td>\n",
       "      <td>0</td>\n",
       "      <td>0</td>\n",
       "      <td>0</td>\n",
       "      <td>0</td>\n",
       "      <td>0</td>\n",
       "      <td>0</td>\n",
       "      <td>0</td>\n",
       "      <td>0</td>\n",
       "      <td>0</td>\n",
       "      <td>0</td>\n",
       "    </tr>\n",
       "  </tbody>\n",
       "</table>\n",
       "<p>5 rows × 20000 columns</p>\n",
       "</div>"
      ],
      "text/plain": [
       "   004  004 change  020  020 38  02after  02after trump  0bamas  0bamas tie  \\\n",
       "0    0           0    0       0        0              0       0           0   \n",
       "1    0           0    0       0        0              0       0           0   \n",
       "2    0           0    0       0        0              0       0           0   \n",
       "3    0           0    0       0        0              0       0           0   \n",
       "4    0           0    0       0        0              0       0           0   \n",
       "\n",
       "   0c  0c swings  ...  スタリん時代のソ連や毛沢東の文化大革命並のサイエンスに政治的介入だ どうなる米国  報告書は  \\\n",
       "0   0          0  ...                                         0     0   \n",
       "1   0          0  ...                                         0     0   \n",
       "2   0          0  ...                                         0     0   \n",
       "3   0          0  ...                                         0     0   \n",
       "4   0          0  ...                                         0     0   \n",
       "\n",
       "   報告書は 欧州が最も大きく地球温暖化の影響を受けていると警告しています  欧州が最も大きく地球温暖化の影響を受けていると警告しています  \\\n",
       "0                                    0                               0   \n",
       "1                                    0                               0   \n",
       "2                                    0                               0   \n",
       "3                                    0                               0   \n",
       "4                                    0                               0   \n",
       "\n",
       "   気候変動との表現を削除しないと予算を貰えない  気候変動との表現を削除しないと予算を貰えない と通知した  申請書のアブストラクトに  \\\n",
       "0                       0                             0             0   \n",
       "1                       0                             0             0   \n",
       "2                       0                             0             0   \n",
       "3                       0                             0             0   \n",
       "4                       0                             0             0   \n",
       "\n",
       "   申請書のアブストラクトに climate  米国政府はある研究者に連絡して  米国政府はある研究者に連絡して 申請書のアブストラクトに  \n",
       "0                     0                0                             0  \n",
       "1                     0                0                             0  \n",
       "2                     0                0                             0  \n",
       "3                     0                0                             0  \n",
       "4                     0                0                             0  \n",
       "\n",
       "[5 rows x 20000 columns]"
      ]
     },
     "execution_count": 54,
     "metadata": {},
     "output_type": "execute_result"
    }
   ],
   "source": [
    "model_df = pd.DataFrame(data=X_count.toarray(),columns = vector.get_feature_names())\n",
    "model_df.head()"
   ]
  },
  {
   "cell_type": "markdown",
   "id": "43b2d523",
   "metadata": {},
   "source": [
    "<a id=\"five\"></a>\n",
    "## 5. Modelling\n",
    "<a class=\"anchor\" id=\"1.1\"></a>\n",
    "<a href=#cont>Back to Table of Contents</a>\n",
    "\n",
    "---\n",
    "    \n",
    "| ⚡ Description: Modelling ⚡ |\n",
    "| :--------------------------- |\n",
    "| In this section, you are required to create one or more regression models that are able to accurately predict the thee hour load shortfall. |\n",
    "\n",
    "---"
   ]
  },
  {
   "cell_type": "markdown",
   "id": "04fb9f7b",
   "metadata": {},
   "source": [
    "### Spliting of data set\n",
    "\n",
    "Before we proceed to modelling, we have to split our data set into two sets (Training and Testing), to enable us internally evaluate the respective performance of our models. to achive this, we make use of sklearn **train_test_split** class."
   ]
  },
  {
   "cell_type": "code",
   "execution_count": 55,
   "id": "5df39720",
   "metadata": {},
   "outputs": [],
   "source": [
    "# get training and testing data \n",
    "X_train, X_test, y_train, y_test = train_test_split(model_df, y, test_size=0.3, random_state=RANDOM_STATE)"
   ]
  },
  {
   "cell_type": "markdown",
   "id": "f6ad7bf5",
   "metadata": {},
   "source": [
    "### Model and model evaluation\n",
    "\n",
    "We write a function **model_eval**, that uses the training and test features and labels data set generated above, to train a model, make prediction with the model, and output the models performance with the aid of **classification_report** from sklearn."
   ]
  },
  {
   "cell_type": "code",
   "execution_count": 56,
   "id": "873de8d5",
   "metadata": {},
   "outputs": [],
   "source": [
    "def model_eval(model):\n",
    "    \"\"\"\n",
    "        This function accepts a model as an input, train and make predictions with the model, using the train and test\n",
    "        data set generated above, and ouput the trained model and the model's performance as a tuple.\n",
    "    \"\"\"\n",
    "    model.fit(X_train, y_train)\n",
    "    y_pred = model.predict(X_test)\n",
    "    \n",
    "    return (model, classification_report(y_test, y_pred))"
   ]
  },
  {
   "cell_type": "markdown",
   "id": "8c8fee48",
   "metadata": {},
   "source": [
    "### Tunning models\n",
    "\n",
    "For this purpose we will use sklearn's **GridSearchCV**. This procedure allows us to specify a set of possible parameters for a specific model. GridSearchCV will then go through those parameters and try every possible combination of them (kind of like it's working through a grid in a systematic way - that's where the name comes from). GridSearchCV will then return the combination of parameters that resulted in a model with the best score."
   ]
  },
  {
   "cell_type": "markdown",
   "id": "7e0b9364",
   "metadata": {},
   "source": [
    "### Logistics Regression\n",
    "We proceed to create an instance of **Logistics Regression model** and manually set our desired hyperparameter\n",
    "#### Instanciate Logistic Regression Model"
   ]
  },
  {
   "cell_type": "code",
   "execution_count": 57,
   "id": "20d073e0",
   "metadata": {},
   "outputs": [
    {
     "name": "stdout",
     "output_type": "stream",
     "text": [
      "\n",
      "\n",
      "Classification Report:\n",
      "\n",
      "               precision    recall  f1-score   support\n",
      "\n",
      "          -1       0.96      0.98      0.97      2620\n",
      "           0       0.87      0.94      0.90      2458\n",
      "           1       0.89      0.75      0.81      2576\n",
      "           2       0.88      0.93      0.90      2582\n",
      "\n",
      "    accuracy                           0.90     10236\n",
      "   macro avg       0.90      0.90      0.90     10236\n",
      "weighted avg       0.90      0.90      0.90     10236\n",
      "\n"
     ]
    }
   ],
   "source": [
    "# instantiate a logistic regression model\n",
    "logreg_model = LogisticRegression(multi_class='ovr')\n",
    "\n",
    "# Train, predict and evaluate model performance \n",
    "(logreg_model, model_per) = model_eval(logreg_model)\n",
    "\n",
    "# Print model classification report\n",
    "print(\"\\n\\nClassification Report:\\n\\n\",model_per)"
   ]
  },
  {
   "cell_type": "markdown",
   "id": "d003d75c",
   "metadata": {},
   "source": [
    "#### RandomForest Classification Model\n",
    "\n",
    "We proceed to create an instance of **RandomForestClassifier model** and manually set our desired hyperparameter"
   ]
  },
  {
   "cell_type": "code",
   "execution_count": 58,
   "id": "a7dffd39",
   "metadata": {},
   "outputs": [
    {
     "name": "stdout",
     "output_type": "stream",
     "text": [
      "\n",
      "\n",
      "Classification Report:\n",
      "\n",
      "               precision    recall  f1-score   support\n",
      "\n",
      "          -1       0.97      0.99      0.98      2620\n",
      "           0       0.84      0.96      0.90      2458\n",
      "           1       0.93      0.72      0.81      2576\n",
      "           2       0.89      0.95      0.92      2582\n",
      "\n",
      "    accuracy                           0.90     10236\n",
      "   macro avg       0.91      0.91      0.90     10236\n",
      "weighted avg       0.91      0.90      0.90     10236\n",
      "\n"
     ]
    }
   ],
   "source": [
    "# Instanciate a RandomForestClassification model\n",
    "randomF_model = RandomForestClassifier(n_estimators=100, random_state=42)\n",
    "\n",
    "# Train, predict and evaluate model performance \n",
    "(randomF_model, model_per) = model_eval(randomF_model)\n",
    "\n",
    "# Print model classification report\n",
    "print(\"\\n\\nClassification Report:\\n\\n\",model_per)"
   ]
  },
  {
   "cell_type": "markdown",
   "id": "0faaf07a",
   "metadata": {},
   "source": [
    "### SVM Model\n",
    "We proceed to create an instance of **SVM model** and create a list for each hyperparameter settings that we may be interested in seting, storing these list in a python dictionary, which we will then pass into sklearn GridSearch, which is a library from sklearn used in determining the best hyperparameter tunning for the inputed model passed into it.\n"
   ]
  },
  {
   "cell_type": "code",
   "execution_count": null,
   "id": "fc741b32",
   "metadata": {},
   "outputs": [],
   "source": [
    "# instantiate a Support Vector Machine model\n",
    "\n",
    "svc = SVC()\n",
    "\n",
    "\n",
    "# Create and store hyperparameters values\n",
    "Cs = [0.001, 0.01, 0.1, 1, 10]\n",
    "gammas = [0.001, 0.01, 0.1, 1]\n",
    "\n",
    "# Store hyperparameters in a dictionary\n",
    "parameters = {\n",
    "    'C' : Cs,\n",
    "    'gamma' : gammas\n",
    "}\n",
    "\n",
    "# Instanciate a GridsearchCV and train same with \n",
    "svc_model = GridSearchCV(svc, parameters)\n",
    "\n",
    "# Train, predict and evaluate model performance \n",
    "(svc_model, model_per) = model_eval(svc_model)\n",
    "\n",
    "# Print model classification report\n",
    "print(\"\\n\\nClassification Report:\\n\\n\",model_per)"
   ]
  },
  {
   "cell_type": "markdown",
   "id": "6b530251",
   "metadata": {},
   "source": [
    "### Test data set ( for kaggle submission )\n",
    "\n",
    "To enable us make prediction with our model, we have to import the **test** dataset and execute all data engineering operation executed on the **train** dataset.\n",
    "\n",
    "These activities are: \n",
    "- **delete urls**\n",
    "- **delete tags**\n",
    "- **convert words to lowercases**\n",
    "- **remove punctions**\n",
    "- **remove newlines**\n",
    "- **tokenize**\n",
    "- **stemming**\n",
    "- **larmming**\n",
    "- **remove stop words**"
   ]
  },
  {
   "cell_type": "code",
   "execution_count": null,
   "id": "9af6c562",
   "metadata": {},
   "outputs": [],
   "source": [
    "# Import and view the first 5 rolls of our training dataset\n",
    "df_test = pd.read_csv('data/test.csv')\n",
    "df_test.head()"
   ]
  },
  {
   "cell_type": "code",
   "execution_count": null,
   "id": "5bba2956",
   "metadata": {},
   "outputs": [],
   "source": [
    "# Create a new dataframe with message colun void of url links\n",
    "new_df_test = delete_url(df_test, 'message')\n",
    "new_df_test.head()"
   ]
  },
  {
   "cell_type": "code",
   "execution_count": null,
   "id": "3ae0d984",
   "metadata": {},
   "outputs": [],
   "source": [
    "# Create a new dataframe with message colun void of url links\n",
    "new_df_test = delete_tags(new_df_test, 'message')\n",
    "new_df_test.head()"
   ]
  },
  {
   "cell_type": "code",
   "execution_count": null,
   "id": "ebf021a9",
   "metadata": {},
   "outputs": [],
   "source": [
    "# Create a new dataframe with all words in the message column converted to its lowercase form\n",
    "new_df_test = word_converter(new_df_test, 'message')\n",
    "new_df_test.head()"
   ]
  },
  {
   "cell_type": "code",
   "execution_count": null,
   "id": "4f100a10",
   "metadata": {},
   "outputs": [],
   "source": [
    "# Create a new dataframe with the message colmn void of punctuations\n",
    "new_df_test = remove_punc(new_df_test, 'message')\n",
    "new_df_test.head()"
   ]
  },
  {
   "cell_type": "code",
   "execution_count": null,
   "id": "adfb8f50",
   "metadata": {},
   "outputs": [],
   "source": [
    "# Create a new dataframe with the message colmn void of punctuations\n",
    "new_df_test = remove_new_line(new_df_test, 'message')\n",
    "new_df_test.head()"
   ]
  },
  {
   "cell_type": "code",
   "execution_count": null,
   "id": "b2cc8a28",
   "metadata": {},
   "outputs": [],
   "source": [
    "# Create a new column to hold the tokens from message column\n",
    "new_df_test = tokenizer(new_df_test, 'message')\n",
    "new_df_test.head()"
   ]
  },
  {
   "cell_type": "code",
   "execution_count": null,
   "id": "c0bf2fca",
   "metadata": {},
   "outputs": [],
   "source": [
    "# Create a new column to hold root words from stemmer\n",
    "new_df_test = stem_words(new_df_test, 'message_tok')\n",
    "new_df_test.head()"
   ]
  },
  {
   "cell_type": "code",
   "execution_count": null,
   "id": "fafa2ff4",
   "metadata": {},
   "outputs": [],
   "source": [
    "# Create a new column to hold root words from stemmer\n",
    "new_df_test = lam_words(new_df_test, 'message_tok')\n",
    "new_df_test.head()"
   ]
  },
  {
   "cell_type": "code",
   "execution_count": null,
   "id": "7f489630",
   "metadata": {},
   "outputs": [],
   "source": [
    "# Create a new column from message_lam void of stop words\n",
    "new_df_test = remove_stop_words(new_df_test, 'message_lam')\n",
    "new_df_test.head()"
   ]
  },
  {
   "cell_type": "code",
   "execution_count": null,
   "id": "da6c24dc",
   "metadata": {},
   "outputs": [],
   "source": [
    "# Create a new column from no_stop_word void of delimeters\n",
    "new_df_test = form_corpus(new_df_test, 'no_stop_word')\n",
    "new_df_test.head()"
   ]
  },
  {
   "cell_type": "code",
   "execution_count": null,
   "id": "775ba967",
   "metadata": {},
   "outputs": [],
   "source": [
    "# Drop every other columns except sentiment and de_tok columns\n",
    "df_test_reduced = new_df_test[[ 'de_tok']]\n",
    "df_test_reduced.head()"
   ]
  },
  {
   "cell_type": "markdown",
   "id": "0187fac2",
   "metadata": {},
   "source": [
    "### Transform test dataset \n",
    "\n",
    "We transform the test dataset using the chosen vectorizer ***vector** from the vectorizer section above\n"
   ]
  },
  {
   "cell_type": "code",
   "execution_count": null,
   "id": "3cda4756",
   "metadata": {},
   "outputs": [],
   "source": [
    "# Transform the de_tok column\n",
    "X_count_test = vector.transform(df_test_reduced['de_tok'].values.astype(str))\n",
    "X_count_test.shape"
   ]
  },
  {
   "cell_type": "code",
   "execution_count": null,
   "id": "348aaee8",
   "metadata": {},
   "outputs": [],
   "source": [
    "text_df = pd.DataFrame(data=X_count_test.toarray(),columns = vector.get_feature_names())\n",
    "text_df.head()"
   ]
  },
  {
   "cell_type": "markdown",
   "id": "899d59b1",
   "metadata": {},
   "source": [
    "### Make predictions with the models generated above for kaggle submission :\n",
    "- **logreg_model** (Logistics Regression model)\n",
    "- **randomF_model** (RandomForestClasifier model)\n",
    "- **svc_model** (SVC model)\n"
   ]
  },
  {
   "cell_type": "markdown",
   "id": "778c6521",
   "metadata": {},
   "source": [
    "#### Logistic Regression Model"
   ]
  },
  {
   "cell_type": "code",
   "execution_count": null,
   "id": "6a69b5a1",
   "metadata": {},
   "outputs": [],
   "source": [
    "# Make prediction with logistics regression model and the test data\n",
    "y_pred_logistic = logreg_model.predict(text_df)"
   ]
  },
  {
   "cell_type": "markdown",
   "id": "36731d44",
   "metadata": {},
   "source": [
    "#### RandomForestClasifier Model"
   ]
  },
  {
   "cell_type": "code",
   "execution_count": null,
   "id": "aa7580ae",
   "metadata": {},
   "outputs": [],
   "source": [
    "# Make prediction with RandomForestClasifier model and the test data\n",
    "y_pred_random = randomF_model.predict(text_df)"
   ]
  },
  {
   "cell_type": "markdown",
   "id": "f5e2d5df",
   "metadata": {},
   "source": [
    "#### Support Vector Machine Model"
   ]
  },
  {
   "cell_type": "code",
   "execution_count": null,
   "id": "c453fac5",
   "metadata": {},
   "outputs": [],
   "source": [
    "# Make prediction with RandomForestClasifier model and the test data\n",
    "y_pred_svc = svc_model.predict(text_df)"
   ]
  },
  {
   "cell_type": "markdown",
   "id": "f73b7e1a",
   "metadata": {},
   "source": [
    "<a id=\"six\"></a>\n",
    "## 6. Model Performance\n",
    "<a class=\"anchor\" id=\"1.1\"></a>\n",
    "<a href=#cont>Back to Table of Contents</a>\n",
    "\n",
    "---\n",
    "    \n",
    "| ⚡ Description: Model performance ⚡ |\n",
    "| :--------------------------- |\n",
    "| In this section you are required to compare the relative performance of the various trained ML models on a holdout dataset and comment on what model is the best and why. |\n",
    "\n",
    "---"
   ]
  },
  {
   "cell_type": "markdown",
   "id": "ad88e17a",
   "metadata": {},
   "source": [
    "### Convert the predictions of the models to dataframes\n",
    "\n",
    "We have generated predictions for three different models above:\n",
    "- **y_pred_logistic** (Logistics Regression model)\n",
    "- **y_pred_random** (RandomForestClasifier model)\n",
    "- **y_pred_svc** (SVC model)"
   ]
  },
  {
   "cell_type": "markdown",
   "id": "aaf0539b",
   "metadata": {},
   "source": [
    "#### Logistics Regression"
   ]
  },
  {
   "cell_type": "code",
   "execution_count": null,
   "id": "3874a7c6",
   "metadata": {},
   "outputs": [],
   "source": [
    "# Choose best model and motivate why it is the best choice\n",
    "\n",
    "df = pd.DataFrame({\n",
    "    'tweetid': df_test['tweetid'],\n",
    "    'sentiment': y_pred_logistic\n",
    "})\n",
    "\n",
    "df.head()"
   ]
  },
  {
   "cell_type": "code",
   "execution_count": null,
   "id": "147a2db5",
   "metadata": {},
   "outputs": [],
   "source": [
    "df.to_csv('file_001.csv',index=False)"
   ]
  },
  {
   "cell_type": "markdown",
   "id": "1f0d61e9",
   "metadata": {},
   "source": [
    "#### RandomForestClasifier"
   ]
  },
  {
   "cell_type": "code",
   "execution_count": null,
   "id": "2ce4d14d",
   "metadata": {},
   "outputs": [],
   "source": [
    "downsampled_df = pd.DataFrame({\n",
    "    'tweetid': df_test['tweetid'],\n",
    "    'sentiment': y_pred_random\n",
    "})\n",
    "\n",
    "downsampled_df.head()"
   ]
  },
  {
   "cell_type": "code",
   "execution_count": null,
   "id": "565c2b1e",
   "metadata": {},
   "outputs": [],
   "source": [
    "downsampled_df.to_csv('file_002.csv',index=False)"
   ]
  },
  {
   "cell_type": "markdown",
   "id": "2c96fbd9",
   "metadata": {},
   "source": [
    "#### Support Vector Machine"
   ]
  },
  {
   "cell_type": "code",
   "execution_count": null,
   "id": "886e9357",
   "metadata": {},
   "outputs": [],
   "source": [
    "upsampled_df = pd.DataFrame({\n",
    "    'tweetid': df_test['tweetid'],\n",
    "    'sentiment': y_pred_svc\n",
    "})\n",
    "\n",
    "upsampled_df.head()"
   ]
  },
  {
   "cell_type": "code",
   "execution_count": null,
   "id": "1d8d986c",
   "metadata": {},
   "outputs": [],
   "source": [
    "upsampled_df.to_csv('file_003.csv',index=False)"
   ]
  },
  {
   "cell_type": "markdown",
   "id": "197a4499",
   "metadata": {},
   "source": [
    "### Logging Results to Comet"
   ]
  },
  {
   "cell_type": "markdown",
   "id": "2d13998a",
   "metadata": {},
   "source": [
    "#### Model Performance Metrics"
   ]
  },
  {
   "cell_type": "code",
   "execution_count": null,
   "id": "233b0e24",
   "metadata": {},
   "outputs": [],
   "source": [
    "# Generate all metrics for model performance\n",
    "# f1 = f1_score(y_true, y_pred_test, average = 'weighted')\n",
    "# precision = precision_score(y_true, y_pred_test, average ='weighted')\n",
    "# recall = recall_score(y_true, y_pred_test,average = 'weighted')\n",
    "# accuracy = accuracy_score(y_true, y_pred_test)"
   ]
  },
  {
   "cell_type": "markdown",
   "id": "96baa1ad",
   "metadata": {},
   "source": [
    "### Create disctionary for data to be stored on Comet_ml"
   ]
  },
  {
   "cell_type": "code",
   "execution_count": null,
   "id": "696f4e20",
   "metadata": {},
   "outputs": [],
   "source": [
    "# Generates two dictionaries, parameters and metric values\n",
    "# params = {\n",
    "#     'random_state': RANDOM_STATE,\n",
    "#     'model_type': 'Logistics Regression'\n",
    "# }\n",
    "\n",
    "# metrics ={\n",
    "#     'Accuracy': accuracy,\n",
    "#     'precision': precision,\n",
    "#     'recall': recall,\n",
    "#     'f1': f1,\n",
    "# }\n",
    "# metrics"
   ]
  },
  {
   "cell_type": "markdown",
   "id": "793abcfc",
   "metadata": {},
   "source": [
    "### Log parameters and metrics to commet_ml\n",
    "\n",
    "In order to adher to a fundamental pricinple of programming **DRY**(do not repeat yourself), we define a function **experiment_logger** to achieve this. This is because this is a group project with multiple comet_ml API keys. "
   ]
  },
  {
   "cell_type": "code",
   "execution_count": null,
   "id": "7952d4ef",
   "metadata": {},
   "outputs": [],
   "source": [
    "def experiment_logger(experiments):\n",
    "    \"\"\"\n",
    "        This function takes in a list of comet_ml defined experiments, and logs the parameters and metric values,\n",
    "        for this notebook to the respective experiments. It has a return value of None\n",
    "    \"\"\"\n",
    "    for experiment in experiments :\n",
    "        experiment.log_parameters(params)\n",
    "        experiment.log_metrics(metrics)\n",
    "    return None\n",
    "        "
   ]
  },
  {
   "cell_type": "code",
   "execution_count": null,
   "id": "710cbd48",
   "metadata": {},
   "outputs": [],
   "source": [
    "# # Create a list of comet experiments for this project\n",
    "# comet_experiments = [ experiment]\n",
    "\n",
    "# # Log the respective experiments parameter and metric values\n",
    "# experiment_logger(comet_experiments)"
   ]
  },
  {
   "cell_type": "markdown",
   "id": "8da3fb7d",
   "metadata": {},
   "source": [
    "### End all comet experiment after loging the parameters\n",
    "\n",
    "To adhre to the **DRY** principle, we write a function **end_comet** to achieve this\n"
   ]
  },
  {
   "cell_type": "code",
   "execution_count": null,
   "id": "f55f28f5",
   "metadata": {},
   "outputs": [],
   "source": [
    "def end_comet(experiments):\n",
    "    \"\"\"\n",
    "        This function takes in a list of comet_ml defined experiments, and ends the experiments.\n",
    "        It has a return value of None.\n",
    "    \"\"\"\n",
    "    for experiment in experiments :\n",
    "        experiment.end()\n",
    "        \n",
    "    return None"
   ]
  },
  {
   "cell_type": "code",
   "execution_count": null,
   "id": "b9335189",
   "metadata": {},
   "outputs": [],
   "source": [
    "# # End all experiments\n",
    "# end_comet(comet_experiments)"
   ]
  },
  {
   "cell_type": "markdown",
   "id": "a8ad0c0d",
   "metadata": {},
   "source": [
    "<a id=\"seven\"></a>\n",
    "## 7. Model Explanations\n",
    "<a class=\"anchor\" id=\"1.1\"></a>\n",
    "<a href=#cont>Back to Table of Contents</a>\n",
    "\n",
    "---\n",
    "    \n",
    "| ⚡ Description: Model explanation ⚡ |\n",
    "| :--------------------------- |\n",
    "| In this section, you are required to discuss how the best performing model works in a simple way so that both technical and non-technical stakeholders can grasp the intuition behind the model's inner workings. |\n",
    "\n",
    "---"
   ]
  },
  {
   "cell_type": "code",
   "execution_count": null,
   "id": "71bd1f3a",
   "metadata": {},
   "outputs": [],
   "source": []
  }
 ],
 "metadata": {
  "kernelspec": {
   "display_name": "Python 3",
   "language": "python",
   "name": "python3"
  },
  "language_info": {
   "codemirror_mode": {
    "name": "ipython",
    "version": 3
   },
   "file_extension": ".py",
   "mimetype": "text/x-python",
   "name": "python",
   "nbconvert_exporter": "python",
   "pygments_lexer": "ipython3",
   "version": "3.8.8"
  },
  "latex_envs": {
   "LaTeX_envs_menu_present": true,
   "autoclose": false,
   "autocomplete": true,
   "bibliofile": "biblio.bib",
   "cite_by": "apalike",
   "current_citInitial": 1,
   "eqLabelWithNumbers": true,
   "eqNumInitial": 1,
   "hotkeys": {
    "equation": "Ctrl-E",
    "itemize": "Ctrl-I"
   },
   "labels_anchors": false,
   "latex_user_defs": false,
   "report_style_numbering": false,
   "user_envs_cfg": false
  },
  "toc": {
   "base_numbering": 1,
   "nav_menu": {},
   "number_sections": true,
   "sideBar": true,
   "skip_h1_title": false,
   "title_cell": "Table of Contents",
   "title_sidebar": "Contents",
   "toc_cell": false,
   "toc_position": {},
   "toc_section_display": true,
   "toc_window_display": false
  },
  "varInspector": {
   "cols": {
    "lenName": 16,
    "lenType": 16,
    "lenVar": 40
   },
   "kernels_config": {
    "python": {
     "delete_cmd_postfix": "",
     "delete_cmd_prefix": "del ",
     "library": "var_list.py",
     "varRefreshCmd": "print(var_dic_list())"
    },
    "r": {
     "delete_cmd_postfix": ") ",
     "delete_cmd_prefix": "rm(",
     "library": "var_list.r",
     "varRefreshCmd": "cat(var_dic_list()) "
    }
   },
   "types_to_exclude": [
    "module",
    "function",
    "builtin_function_or_method",
    "instance",
    "_Feature"
   ],
   "window_display": false
  }
 },
 "nbformat": 4,
 "nbformat_minor": 5
}
